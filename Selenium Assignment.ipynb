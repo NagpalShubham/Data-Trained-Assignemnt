{
 "cells": [
  {
   "cell_type": "markdown",
   "id": "3254428f",
   "metadata": {},
   "source": [
    "# Q1-scrape data for “Data Analyst” Job position in “Bangalore” location"
   ]
  },
  {
   "cell_type": "code",
   "execution_count": 1,
   "id": "b2ed3105",
   "metadata": {},
   "outputs": [
    {
     "name": "stdout",
     "output_type": "stream",
     "text": [
      "Collecting selenium\n",
      "  Downloading selenium-4.4.3-py3-none-any.whl (985 kB)\n",
      "Requirement already satisfied: urllib3[socks]~=1.26 in c:\\users\\dell\\anaconda3\\lib\\site-packages (from selenium) (1.26.7)\n",
      "Requirement already satisfied: certifi>=2021.10.8 in c:\\users\\dell\\anaconda3\\lib\\site-packages (from selenium) (2021.10.8)\n",
      "Collecting trio-websocket~=0.9\n",
      "  Downloading trio_websocket-0.9.2-py3-none-any.whl (16 kB)\n",
      "Collecting trio~=0.17\n",
      "  Downloading trio-0.21.0-py3-none-any.whl (358 kB)\n",
      "Requirement already satisfied: async-generator>=1.9 in c:\\users\\dell\\anaconda3\\lib\\site-packages (from trio~=0.17->selenium) (1.10)\n",
      "Collecting outcome\n",
      "  Downloading outcome-1.2.0-py2.py3-none-any.whl (9.7 kB)\n",
      "Requirement already satisfied: sortedcontainers in c:\\users\\dell\\anaconda3\\lib\\site-packages (from trio~=0.17->selenium) (2.4.0)\n",
      "Requirement already satisfied: idna in c:\\users\\dell\\anaconda3\\lib\\site-packages (from trio~=0.17->selenium) (3.2)\n",
      "Requirement already satisfied: attrs>=19.2.0 in c:\\users\\dell\\anaconda3\\lib\\site-packages (from trio~=0.17->selenium) (21.2.0)\n",
      "Requirement already satisfied: cffi>=1.14 in c:\\users\\dell\\anaconda3\\lib\\site-packages (from trio~=0.17->selenium) (1.14.6)\n",
      "Requirement already satisfied: sniffio in c:\\users\\dell\\anaconda3\\lib\\site-packages (from trio~=0.17->selenium) (1.2.0)\n",
      "Requirement already satisfied: pycparser in c:\\users\\dell\\anaconda3\\lib\\site-packages (from cffi>=1.14->trio~=0.17->selenium) (2.20)\n",
      "Collecting wsproto>=0.14\n",
      "  Downloading wsproto-1.1.0-py3-none-any.whl (24 kB)\n",
      "Requirement already satisfied: PySocks!=1.5.7,<2.0,>=1.5.6 in c:\\users\\dell\\anaconda3\\lib\\site-packages (from urllib3[socks]~=1.26->selenium) (1.7.1)\n",
      "Collecting h11<1,>=0.9.0\n",
      "  Downloading h11-0.13.0-py3-none-any.whl (58 kB)\n",
      "Installing collected packages: outcome, h11, wsproto, trio, trio-websocket, selenium\n",
      "Successfully installed h11-0.13.0 outcome-1.2.0 selenium-4.4.3 trio-0.21.0 trio-websocket-0.9.2 wsproto-1.1.0\n"
     ]
    }
   ],
   "source": [
    "!pip install selenium"
   ]
  },
  {
   "cell_type": "code",
   "execution_count": 2,
   "id": "1436fffe",
   "metadata": {},
   "outputs": [],
   "source": [
    "import selenium\n",
    "import pandas as pd\n",
    "from selenium import webdriver\n",
    "import warnings\n",
    "warnings.filterwarnings('ignore')\n",
    "from selenium.common.exceptions import StaleElementReferenceException, NoSuchElementException\n",
    "from selenium.webdriver.common.by import By\n",
    "import time"
   ]
  },
  {
   "cell_type": "code",
   "execution_count": 3,
   "id": "6bf38df9",
   "metadata": {},
   "outputs": [],
   "source": [
    "driver = webdriver.Chrome(r\"C:\\Users\\dell\\Downloads\\chromedriver.exe\")"
   ]
  },
  {
   "cell_type": "code",
   "execution_count": 10,
   "id": "17ca6ebe",
   "metadata": {},
   "outputs": [],
   "source": [
    "driver.get(\"https://www.naukri.com/\")"
   ]
  },
  {
   "cell_type": "code",
   "execution_count": 11,
   "id": "8315ecb0",
   "metadata": {},
   "outputs": [],
   "source": [
    "designation = driver.find_element(By.CLASS_NAME,\"suggestor-input\")\n",
    "designation.send_keys(\"Data Analyst\")"
   ]
  },
  {
   "cell_type": "code",
   "execution_count": 12,
   "id": "46573e99",
   "metadata": {},
   "outputs": [],
   "source": [
    "location = driver.find_element(By.XPATH,\"/html/body/div[1]/div[2]/div[3]/div/div/div[5]/div/div/div/input\")\n",
    "location.send_keys(\"Bangalore\")"
   ]
  },
  {
   "cell_type": "code",
   "execution_count": 13,
   "id": "b222ab8f",
   "metadata": {},
   "outputs": [],
   "source": [
    "search = driver.find_element(By.CLASS_NAME,\"qsbSubmit\")\n",
    "search.click()"
   ]
  },
  {
   "cell_type": "code",
   "execution_count": 7,
   "id": "16da014f",
   "metadata": {},
   "outputs": [],
   "source": [
    "job_title1 = []\n",
    "job_location1 = []\n",
    "company_name1 = []\n",
    "experience_required1 = []"
   ]
  },
  {
   "cell_type": "code",
   "execution_count": 8,
   "id": "c24ce2ae",
   "metadata": {},
   "outputs": [],
   "source": [
    "title_tag = driver.find_elements(By.XPATH,'//a[@class=\"title fw500 ellipsis\"]')"
   ]
  },
  {
   "cell_type": "code",
   "execution_count": 9,
   "id": "305ece01",
   "metadata": {},
   "outputs": [],
   "source": [
    "for i in title_tag[0:10]:\n",
    "    title = i.text\n",
    "    job_title1.append(title)\n",
    "    \n",
    "location_tag = driver.find_elements(By.XPATH,'//li[@class=\"fleft grey-text br2 placeHolderLi location\"]') \n",
    "\n",
    "for i in location_tag[0:10]:\n",
    "    location = i.text\n",
    "    job_location1.append(location)"
   ]
  },
  {
   "cell_type": "code",
   "execution_count": 10,
   "id": "f067b2e9",
   "metadata": {},
   "outputs": [],
   "source": [
    "name_tag = driver.find_elements(By.XPATH,'//a[@class=\"subTitle ellipsis fleft\"]') \n",
    "\n",
    "for i in name_tag[0:10]:\n",
    "    name = i.text\n",
    "    company_name1.append(name)"
   ]
  },
  {
   "cell_type": "code",
   "execution_count": 11,
   "id": "18080048",
   "metadata": {},
   "outputs": [],
   "source": [
    "experience_tag = driver.find_elements(By.XPATH,'//li[@class=\"fleft grey-text br2 placeHolderLi experience\"]//span') \n",
    "\n",
    "for i in experience_tag[0:10]:\n",
    "    experience = i.text\n",
    "    experience_required1.append(experience)"
   ]
  },
  {
   "cell_type": "code",
   "execution_count": 15,
   "id": "fd90535e",
   "metadata": {},
   "outputs": [
    {
     "name": "stdout",
     "output_type": "stream",
     "text": [
      "10 10 10 10\n"
     ]
    }
   ],
   "source": [
    "print(len(job_title1),len(job_location1),len(company_name1),len(experience_required1))"
   ]
  },
  {
   "cell_type": "code",
   "execution_count": 14,
   "id": "caaa9a17",
   "metadata": {},
   "outputs": [],
   "source": [
    "df = pd.DataFrame({'job_title':job_title1,'job_location':job_location1,'company_name':company_name1,'experience_required':experience_required1})"
   ]
  },
  {
   "cell_type": "code",
   "execution_count": 34,
   "id": "83762e61",
   "metadata": {},
   "outputs": [
    {
     "data": {
      "text/html": [
       "<div>\n",
       "<style scoped>\n",
       "    .dataframe tbody tr th:only-of-type {\n",
       "        vertical-align: middle;\n",
       "    }\n",
       "\n",
       "    .dataframe tbody tr th {\n",
       "        vertical-align: top;\n",
       "    }\n",
       "\n",
       "    .dataframe thead th {\n",
       "        text-align: right;\n",
       "    }\n",
       "</style>\n",
       "<table border=\"1\" class=\"dataframe\">\n",
       "  <thead>\n",
       "    <tr style=\"text-align: right;\">\n",
       "      <th></th>\n",
       "      <th>job_title</th>\n",
       "      <th>job_location</th>\n",
       "      <th>company_name</th>\n",
       "      <th>experience_required</th>\n",
       "    </tr>\n",
       "  </thead>\n",
       "  <tbody>\n",
       "    <tr>\n",
       "      <th>0</th>\n",
       "      <td>Business &amp; Data Analyst- Assistant Manager</td>\n",
       "      <td>Bangalore/Bengaluru, Hyderabad/Secunderabad</td>\n",
       "      <td>State Street</td>\n",
       "      <td>1-3 Yrs</td>\n",
       "    </tr>\n",
       "    <tr>\n",
       "      <th>1</th>\n",
       "      <td>Sr. Business Data Analyst</td>\n",
       "      <td>Bangalore/Bengaluru</td>\n",
       "      <td>Infometry</td>\n",
       "      <td>4-6 Yrs</td>\n",
       "    </tr>\n",
       "    <tr>\n",
       "      <th>2</th>\n",
       "      <td>Senior Data Analyst(Power BI/Python)</td>\n",
       "      <td>Bangalore/Bengaluru</td>\n",
       "      <td>Societe Generale</td>\n",
       "      <td>3-7 Yrs</td>\n",
       "    </tr>\n",
       "    <tr>\n",
       "      <th>3</th>\n",
       "      <td>Sr. Data Analyst</td>\n",
       "      <td>Bangalore Rural, Bhopal, Indore, New Delhi, Pu...</td>\n",
       "      <td>Netlink Software</td>\n",
       "      <td>3-6 Yrs</td>\n",
       "    </tr>\n",
       "    <tr>\n",
       "      <th>4</th>\n",
       "      <td>Business Analyst - Data Strategy</td>\n",
       "      <td>Bangalore/Bengaluru</td>\n",
       "      <td>Capco</td>\n",
       "      <td>9-11 Yrs</td>\n",
       "    </tr>\n",
       "    <tr>\n",
       "      <th>5</th>\n",
       "      <td>Senior Data Analyst</td>\n",
       "      <td>Bangalore/Bengaluru(Old Madras Road)</td>\n",
       "      <td>KrazyBee</td>\n",
       "      <td>3-6 Yrs</td>\n",
       "    </tr>\n",
       "    <tr>\n",
       "      <th>6</th>\n",
       "      <td>Senior Data Analyst</td>\n",
       "      <td>Bangalore/Bengaluru</td>\n",
       "      <td>Qualitest India Private Limited</td>\n",
       "      <td>5-8 Yrs</td>\n",
       "    </tr>\n",
       "    <tr>\n",
       "      <th>7</th>\n",
       "      <td>Sr. Data Analyst</td>\n",
       "      <td>Bangalore/Bengaluru, Pune</td>\n",
       "      <td>Global Indian School Education Services</td>\n",
       "      <td>6-11 Yrs</td>\n",
       "    </tr>\n",
       "    <tr>\n",
       "      <th>8</th>\n",
       "      <td>Senior Data Analyst</td>\n",
       "      <td>Bangalore/Bengaluru</td>\n",
       "      <td>Optum</td>\n",
       "      <td>5-7 Yrs</td>\n",
       "    </tr>\n",
       "    <tr>\n",
       "      <th>9</th>\n",
       "      <td>Sr Clinical Data Analyst</td>\n",
       "      <td>Bangalore/Bengaluru</td>\n",
       "      <td>LabCorp</td>\n",
       "      <td>2-5 Yrs</td>\n",
       "    </tr>\n",
       "  </tbody>\n",
       "</table>\n",
       "</div>"
      ],
      "text/plain": [
       "                                    job_title  \\\n",
       "0  Business & Data Analyst- Assistant Manager   \n",
       "1                   Sr. Business Data Analyst   \n",
       "2        Senior Data Analyst(Power BI/Python)   \n",
       "3                            Sr. Data Analyst   \n",
       "4            Business Analyst - Data Strategy   \n",
       "5                         Senior Data Analyst   \n",
       "6                         Senior Data Analyst   \n",
       "7                            Sr. Data Analyst   \n",
       "8                         Senior Data Analyst   \n",
       "9                    Sr Clinical Data Analyst   \n",
       "\n",
       "                                        job_location  \\\n",
       "0        Bangalore/Bengaluru, Hyderabad/Secunderabad   \n",
       "1                                Bangalore/Bengaluru   \n",
       "2                                Bangalore/Bengaluru   \n",
       "3  Bangalore Rural, Bhopal, Indore, New Delhi, Pu...   \n",
       "4                                Bangalore/Bengaluru   \n",
       "5               Bangalore/Bengaluru(Old Madras Road)   \n",
       "6                                Bangalore/Bengaluru   \n",
       "7                          Bangalore/Bengaluru, Pune   \n",
       "8                                Bangalore/Bengaluru   \n",
       "9                                Bangalore/Bengaluru   \n",
       "\n",
       "                              company_name experience_required  \n",
       "0                             State Street             1-3 Yrs  \n",
       "1                                Infometry             4-6 Yrs  \n",
       "2                         Societe Generale             3-7 Yrs  \n",
       "3                         Netlink Software             3-6 Yrs  \n",
       "4                                    Capco            9-11 Yrs  \n",
       "5                                 KrazyBee             3-6 Yrs  \n",
       "6          Qualitest India Private Limited             5-8 Yrs  \n",
       "7  Global Indian School Education Services            6-11 Yrs  \n",
       "8                                    Optum             5-7 Yrs  \n",
       "9                                  LabCorp             2-5 Yrs  "
      ]
     },
     "execution_count": 34,
     "metadata": {},
     "output_type": "execute_result"
    }
   ],
   "source": [
    "df"
   ]
  },
  {
   "cell_type": "code",
   "execution_count": 37,
   "id": "09340cf9",
   "metadata": {},
   "outputs": [
    {
     "data": {
      "text/plain": [
       "[<selenium.webdriver.remote.webelement.WebElement (session=\"8378f4e92dcf2ba890abce7c432a66cf\", element=\"a5bced2b-d4ff-4428-86d8-93908a1021e2\")>,\n",
       " <selenium.webdriver.remote.webelement.WebElement (session=\"8378f4e92dcf2ba890abce7c432a66cf\", element=\"0f23515a-8ce5-41a6-9d1f-584176720a90\")>,\n",
       " <selenium.webdriver.remote.webelement.WebElement (session=\"8378f4e92dcf2ba890abce7c432a66cf\", element=\"658020e5-4398-487d-88c6-7a447b12df6c\")>,\n",
       " <selenium.webdriver.remote.webelement.WebElement (session=\"8378f4e92dcf2ba890abce7c432a66cf\", element=\"0787e494-4f1b-48ba-9d7f-2e75b5bbffdb\")>]"
      ]
     },
     "execution_count": 37,
     "metadata": {},
     "output_type": "execute_result"
    }
   ],
   "source": [
    "url = driver.find_elements(By.XPATH,'//a[@class=\"title fw500 ellipsis\"]')\n",
    "url[0:4]"
   ]
  },
  {
   "cell_type": "code",
   "execution_count": 38,
   "id": "15943e54",
   "metadata": {},
   "outputs": [
    {
     "name": "stdout",
     "output_type": "stream",
     "text": [
      "https://www.naukri.com/job-listings-business-data-analyst-assistant-manager-statestreet-global-advisor-pvt-ltd-hyderabad-secunderabad-bangalore-bengaluru-1-to-3-years-180822502282\n",
      "https://www.naukri.com/job-listings-sr-business-data-analyst-infometry-bangalore-bengaluru-4-to-6-years-190822500824\n",
      "https://www.naukri.com/job-listings-senior-data-analyst-power-bi-python-societe-generale-global-solution-centre-pvt-ltd-bangalore-bengaluru-3-to-7-years-210822900010\n",
      "https://www.naukri.com/job-listings-sr-data-analyst-netlink-software-private-limited-bhopal-indore-new-delhi-pune-bangalore-rural-mumbai-all-areas-3-to-6-years-200822001807\n"
     ]
    }
   ],
   "source": [
    "for i in url[0:4]:\n",
    "    print(i.get_attribute('href'))"
   ]
  },
  {
   "cell_type": "code",
   "execution_count": 45,
   "id": "138e9c56",
   "metadata": {},
   "outputs": [],
   "source": [
    "job_titles = []"
   ]
  },
  {
   "cell_type": "code",
   "execution_count": 46,
   "id": "f1383ad5",
   "metadata": {},
   "outputs": [],
   "source": [
    "start = 0\n",
    "end = 2\n",
    "for page in range(start,end):\n",
    "    titles = driver.find_elements(By.XPATH,'//a[@class=\"title fw500 ellipsis\"]')\n",
    "    for i in titles:\n",
    "        job_titles.append(i.text)\n",
    "    next_button = driver.find_element(By.XPATH,'//a[@class=\"fright fs14 btn-secondary br2\"]') \n",
    "    next_button.click()\n",
    "    time.sleep(3)"
   ]
  },
  {
   "cell_type": "code",
   "execution_count": 47,
   "id": "173ef987",
   "metadata": {},
   "outputs": [
    {
     "data": {
      "text/plain": [
       "40"
      ]
     },
     "execution_count": 47,
     "metadata": {},
     "output_type": "execute_result"
    }
   ],
   "source": [
    "len(job_titles)"
   ]
  },
  {
   "cell_type": "code",
   "execution_count": 48,
   "id": "2b412fbb",
   "metadata": {},
   "outputs": [
    {
     "data": {
      "text/plain": [
       "['Business & Data Analyst- Assistant Manager',\n",
       " 'Sr. Business Data Analyst',\n",
       " 'Senior Data Analyst(Power BI/Python)',\n",
       " 'Sr. Data Analyst',\n",
       " 'Business Analyst - Data Strategy',\n",
       " 'Senior Data Analyst',\n",
       " 'Senior Data Analyst',\n",
       " 'Sr. Data Analyst',\n",
       " 'Senior Data Analyst',\n",
       " 'Sr Clinical Data Analyst',\n",
       " 'Master Data Management Business Analyst',\n",
       " 'Data Analyst',\n",
       " 'Data Analyst Entry',\n",
       " 'Data Analyst',\n",
       " 'Data Analyst 2',\n",
       " 'Manager / Senior Manager - Data Analyst',\n",
       " 'Intern Data Analyst',\n",
       " 'Senior Data Analyst II',\n",
       " 'Data Analyst',\n",
       " 'Data Analyst / data analytics- US MNC (analytics)',\n",
       " 'Data Analyst - Python/Artificial Intelligence',\n",
       " 'Data Analyst',\n",
       " 'DATA Analyst- Immediate Joining',\n",
       " 'Lead Data Analyst',\n",
       " 'Data Analyst',\n",
       " 'Leap COE Intern(Data Analyst)',\n",
       " 'Data Analyst',\n",
       " 'Data Analyst',\n",
       " 'Forecasting Analyst/ Data Scientist (US Client)',\n",
       " 'SAS Data Analyst',\n",
       " 'Data Analyst - Data Science, 3 To 5 Years',\n",
       " 'Senior Analyst/Data Scientist',\n",
       " 'Data Analyst / Product Analyst - Tableau / Python',\n",
       " 'Data Analyst',\n",
       " 'Data Analyst',\n",
       " 'Data Analyst',\n",
       " 'Data Analyst',\n",
       " 'Data Analyst',\n",
       " 'Reference Data Analyst',\n",
       " 'Data Analyst']"
      ]
     },
     "execution_count": 48,
     "metadata": {},
     "output_type": "execute_result"
    }
   ],
   "source": [
    "job_titles"
   ]
  },
  {
   "cell_type": "markdown",
   "id": "38d9689a",
   "metadata": {},
   "source": [
    "# Q-2 program to scrape data for “Data Scientist” Job position in “Bangalore” location."
   ]
  },
  {
   "cell_type": "code",
   "execution_count": 24,
   "id": "d42a1a03",
   "metadata": {},
   "outputs": [],
   "source": [
    "driver.get(\"https://www.naukri.com/\")"
   ]
  },
  {
   "cell_type": "code",
   "execution_count": 25,
   "id": "9f35de38",
   "metadata": {},
   "outputs": [],
   "source": [
    "designation = driver.find_element(By.CLASS_NAME,\"suggestor-input\")\n",
    "designation.send_keys(\"Data Scientist\")"
   ]
  },
  {
   "cell_type": "code",
   "execution_count": 28,
   "id": "a3b168cb",
   "metadata": {},
   "outputs": [],
   "source": [
    "location = driver.find_element(By.XPATH,\"/html/body/div[1]/div[2]/div[3]/div/div/div[5]/div/div/div/input\")\n",
    "location.send_keys(\"Bangalore\")"
   ]
  },
  {
   "cell_type": "code",
   "execution_count": 30,
   "id": "6f7f698e",
   "metadata": {},
   "outputs": [],
   "source": [
    "search = driver.find_element(By.XPATH,\"/html/body/div[1]/div[2]/div[3]/div/div/div[6]\")\n",
    "search.click()"
   ]
  },
  {
   "cell_type": "code",
   "execution_count": 56,
   "id": "cb76565c",
   "metadata": {},
   "outputs": [],
   "source": [
    "job_title1 = []\n",
    "job_location1 = []\n",
    "company_name1 = []"
   ]
  },
  {
   "cell_type": "code",
   "execution_count": 58,
   "id": "baf827e8",
   "metadata": {},
   "outputs": [],
   "source": [
    "title_tag = driver.find_elements(By.XPATH,'//a[@class=\"title fw500 ellipsis\"]')"
   ]
  },
  {
   "cell_type": "code",
   "execution_count": 59,
   "id": "183f304f",
   "metadata": {},
   "outputs": [],
   "source": [
    "for i in title_tag[0:10]:\n",
    "    title = i.text\n",
    "    job_title1.append(title)"
   ]
  },
  {
   "cell_type": "code",
   "execution_count": 60,
   "id": "b908cc61",
   "metadata": {},
   "outputs": [],
   "source": [
    "location_tag = driver.find_elements(By.XPATH,'//li[@class=\"fleft grey-text br2 placeHolderLi location\"]')"
   ]
  },
  {
   "cell_type": "code",
   "execution_count": 61,
   "id": "aa48375a",
   "metadata": {},
   "outputs": [],
   "source": [
    "for i in location_tag[0:10]:\n",
    "    location = i.text\n",
    "    job_location1.append(location)"
   ]
  },
  {
   "cell_type": "code",
   "execution_count": 62,
   "id": "b67dcb6f",
   "metadata": {},
   "outputs": [],
   "source": [
    "name_tag = driver.find_elements(By.XPATH,'//a[@class=\"subTitle ellipsis fleft\"]')"
   ]
  },
  {
   "cell_type": "code",
   "execution_count": 63,
   "id": "1ae895f2",
   "metadata": {},
   "outputs": [],
   "source": [
    "for i in name_tag[0:10]:\n",
    "    name = i.text\n",
    "    company_name1.append(name)"
   ]
  },
  {
   "cell_type": "code",
   "execution_count": 64,
   "id": "aa0a6d9b",
   "metadata": {},
   "outputs": [
    {
     "name": "stdout",
     "output_type": "stream",
     "text": [
      "10 10 10\n"
     ]
    }
   ],
   "source": [
    "print(len(job_title1),len(job_location1),len(company_name1))"
   ]
  },
  {
   "cell_type": "code",
   "execution_count": 66,
   "id": "6a14553b",
   "metadata": {},
   "outputs": [],
   "source": [
    "df = pd.DataFrame({'Job_title':job_title1,'job_location':job_location1,'company-name':company_name1})"
   ]
  },
  {
   "cell_type": "code",
   "execution_count": 67,
   "id": "0af32f06",
   "metadata": {},
   "outputs": [
    {
     "data": {
      "text/html": [
       "<div>\n",
       "<style scoped>\n",
       "    .dataframe tbody tr th:only-of-type {\n",
       "        vertical-align: middle;\n",
       "    }\n",
       "\n",
       "    .dataframe tbody tr th {\n",
       "        vertical-align: top;\n",
       "    }\n",
       "\n",
       "    .dataframe thead th {\n",
       "        text-align: right;\n",
       "    }\n",
       "</style>\n",
       "<table border=\"1\" class=\"dataframe\">\n",
       "  <thead>\n",
       "    <tr style=\"text-align: right;\">\n",
       "      <th></th>\n",
       "      <th>Job_title</th>\n",
       "      <th>job_location</th>\n",
       "      <th>company-name</th>\n",
       "    </tr>\n",
       "  </thead>\n",
       "  <tbody>\n",
       "    <tr>\n",
       "      <th>0</th>\n",
       "      <td>Analystics &amp; Modeling Specialist</td>\n",
       "      <td>Bangalore/Bengaluru, Kolkata, Mumbai, Hyderaba...</td>\n",
       "      <td>Accenture</td>\n",
       "    </tr>\n",
       "    <tr>\n",
       "      <th>1</th>\n",
       "      <td>Data scientist _Tata Consultancy Services(Tcs)</td>\n",
       "      <td>Bangalore/Bengaluru, Kochi/Cochin, Indore, New...</td>\n",
       "      <td>TATA CONSULTANCY SERVICES (TCS)</td>\n",
       "    </tr>\n",
       "    <tr>\n",
       "      <th>2</th>\n",
       "      <td>Job||Job Opening For AI Technologist - Data Sc...</td>\n",
       "      <td>Bangalore/Bengaluru, New Delhi, Hyderabad/Secu...</td>\n",
       "      <td>Wipro</td>\n",
       "    </tr>\n",
       "    <tr>\n",
       "      <th>3</th>\n",
       "      <td>Data Scientist / Senior Data Scientist</td>\n",
       "      <td>Bangalore/Bengaluru, Pune, Chennai</td>\n",
       "      <td>Mindtree</td>\n",
       "    </tr>\n",
       "    <tr>\n",
       "      <th>4</th>\n",
       "      <td>Hiring For DATA Scientist @ NTT DATA Business ...</td>\n",
       "      <td>Bangalore/Bengaluru, Noida, Hyderabad/Secunder...</td>\n",
       "      <td>NTT DATA Business Solutions Private Limited</td>\n",
       "    </tr>\n",
       "    <tr>\n",
       "      <th>5</th>\n",
       "      <td>Lead ML Scientist</td>\n",
       "      <td>Bangalore/Bengaluru, Mumbai</td>\n",
       "      <td>Fractal Analytics</td>\n",
       "    </tr>\n",
       "    <tr>\n",
       "      <th>6</th>\n",
       "      <td>Senior Manager - EmTech - Machine Learning - P&amp;T</td>\n",
       "      <td>Bangalore/Bengaluru, Mumbai, Hyderabad/Secunde...</td>\n",
       "      <td>PwC</td>\n",
       "    </tr>\n",
       "    <tr>\n",
       "      <th>7</th>\n",
       "      <td>Urgent Job Opening For AI Practitioner - Data ...</td>\n",
       "      <td>Bangalore/Bengaluru, Kochi/Cochin, New Delhi, ...</td>\n",
       "      <td>Wipro</td>\n",
       "    </tr>\n",
       "    <tr>\n",
       "      <th>8</th>\n",
       "      <td>Assistant Manager - Data Science</td>\n",
       "      <td>Bangalore/Bengaluru, Mumbai, Pune</td>\n",
       "      <td>CitiusTech</td>\n",
       "    </tr>\n",
       "    <tr>\n",
       "      <th>9</th>\n",
       "      <td>Tcs Hiring For Data Scientist</td>\n",
       "      <td>Bangalore/Bengaluru, Chennai, Mumbai (All Areas)</td>\n",
       "      <td>TATA CONSULTANCY SERVICES (TCS)</td>\n",
       "    </tr>\n",
       "  </tbody>\n",
       "</table>\n",
       "</div>"
      ],
      "text/plain": [
       "                                           Job_title  \\\n",
       "0                   Analystics & Modeling Specialist   \n",
       "1     Data scientist _Tata Consultancy Services(Tcs)   \n",
       "2  Job||Job Opening For AI Technologist - Data Sc...   \n",
       "3             Data Scientist / Senior Data Scientist   \n",
       "4  Hiring For DATA Scientist @ NTT DATA Business ...   \n",
       "5                                  Lead ML Scientist   \n",
       "6   Senior Manager - EmTech - Machine Learning - P&T   \n",
       "7  Urgent Job Opening For AI Practitioner - Data ...   \n",
       "8                   Assistant Manager - Data Science   \n",
       "9                      Tcs Hiring For Data Scientist   \n",
       "\n",
       "                                        job_location  \\\n",
       "0  Bangalore/Bengaluru, Kolkata, Mumbai, Hyderaba...   \n",
       "1  Bangalore/Bengaluru, Kochi/Cochin, Indore, New...   \n",
       "2  Bangalore/Bengaluru, New Delhi, Hyderabad/Secu...   \n",
       "3                 Bangalore/Bengaluru, Pune, Chennai   \n",
       "4  Bangalore/Bengaluru, Noida, Hyderabad/Secunder...   \n",
       "5                        Bangalore/Bengaluru, Mumbai   \n",
       "6  Bangalore/Bengaluru, Mumbai, Hyderabad/Secunde...   \n",
       "7  Bangalore/Bengaluru, Kochi/Cochin, New Delhi, ...   \n",
       "8                  Bangalore/Bengaluru, Mumbai, Pune   \n",
       "9   Bangalore/Bengaluru, Chennai, Mumbai (All Areas)   \n",
       "\n",
       "                                  company-name  \n",
       "0                                    Accenture  \n",
       "1              TATA CONSULTANCY SERVICES (TCS)  \n",
       "2                                        Wipro  \n",
       "3                                     Mindtree  \n",
       "4  NTT DATA Business Solutions Private Limited  \n",
       "5                            Fractal Analytics  \n",
       "6                                          PwC  \n",
       "7                                        Wipro  \n",
       "8                                   CitiusTech  \n",
       "9              TATA CONSULTANCY SERVICES (TCS)  "
      ]
     },
     "execution_count": 67,
     "metadata": {},
     "output_type": "execute_result"
    }
   ],
   "source": [
    "df"
   ]
  },
  {
   "cell_type": "markdown",
   "id": "78bceb9c",
   "metadata": {},
   "source": [
    "# Q3 scrape data using the filters available on the webpage"
   ]
  },
  {
   "cell_type": "code",
   "execution_count": 11,
   "id": "47a5e344",
   "metadata": {},
   "outputs": [],
   "source": [
    "driver.get(\"https://www.naukri.com/\")"
   ]
  },
  {
   "cell_type": "code",
   "execution_count": 12,
   "id": "7c0583dd",
   "metadata": {},
   "outputs": [],
   "source": [
    "designation = driver.find_element(By.CLASS_NAME,\"suggestor-input\")\n",
    "designation.send_keys(\"Data Scientist\")"
   ]
  },
  {
   "cell_type": "code",
   "execution_count": 13,
   "id": "abfee785",
   "metadata": {},
   "outputs": [],
   "source": [
    "search = driver.find_element(By.CLASS_NAME,\"qsbSubmit\")\n",
    "search.click()"
   ]
  },
  {
   "cell_type": "code",
   "execution_count": 15,
   "id": "bb01f1d4",
   "metadata": {},
   "outputs": [],
   "source": [
    "Filter1 = driver.find_element(By.XPATH,\"//label[@for='chk-Delhi / NCR-cityTypeGid-']/i\")\n",
    "Filter1.click()\n",
    "time.sleep(3)\n",
    "Filter2 = driver.find_element(By.XPATH,\"//label[@for='chk-3-6 Lakhs-ctcFilter-']/i\")\n",
    "Filter2.click()"
   ]
  },
  {
   "cell_type": "code",
   "execution_count": 16,
   "id": "cc5ee05e",
   "metadata": {},
   "outputs": [],
   "source": [
    "job_title = []\n",
    "company_name = []\n",
    "exp = []\n",
    "salary = []\n",
    "date = []\n",
    "loc = []"
   ]
  },
  {
   "cell_type": "code",
   "execution_count": 17,
   "id": "c0dccc9d",
   "metadata": {},
   "outputs": [],
   "source": [
    "for i in driver.find_elements(By.XPATH,\"//div[@class = 'info fleft']//a[@class = 'title fw500 ellipsis']\")[:10]:\n",
    "    job_title.append(i.text)\n",
    "\n",
    "for i in driver.find_elements(By.XPATH,\"//div[@class = 'info fleft']//a[@class = 'subTitle ellipsis fleft']\")[:10]:\n",
    "    company_name.append(i.text)\n",
    "    \n",
    "for i in driver.find_elements(By.XPATH,\"//ul[@class = 'mt-7']//li[@class = 'fleft grey-text br2 placeHolderLi experience']//span[@class = 'ellipsis fleft fs12 lh16']\")[:10]:\n",
    "    exp.append(i.text)\n",
    "\n",
    "for i in driver.find_elements(By.XPATH,\"//ul[@class = 'mt-7']//li[@class = 'fleft grey-text br2 placeHolderLi location']//span[@class = 'ellipsis fleft fs12 lh16']\")[:10]:\n",
    "    loc.append(i.text)        \n",
    "        \n",
    "for i in driver.find_elements(By.XPATH,\"//ul[@class = 'mt-7']//li[@class = 'fleft grey-text br2 placeHolderLi salary']//span[@class = 'ellipsis fleft fs12 lh16']\")[:10]:\n",
    "    salary.append(i.text)\n",
    "\n",
    "for i in driver.find_elements(By.XPATH,\"//div[@class = 'type br2 fleft grey']//span[@class = 'fleft fw500']\")[:10]:\n",
    "    date.append(i.text) "
   ]
  },
  {
   "cell_type": "code",
   "execution_count": 21,
   "id": "1bb43fd0",
   "metadata": {},
   "outputs": [],
   "source": [
    "DataScientist_JOBDelhi= pd.DataFrame({ \"JOB_TITLE\" : job_title ,\"COMPANY_NAME\": company_name , \n",
    "                                          \"POST_DATE\" : date})"
   ]
  },
  {
   "cell_type": "code",
   "execution_count": 22,
   "id": "6502bf1c",
   "metadata": {},
   "outputs": [
    {
     "data": {
      "text/html": [
       "<div>\n",
       "<style scoped>\n",
       "    .dataframe tbody tr th:only-of-type {\n",
       "        vertical-align: middle;\n",
       "    }\n",
       "\n",
       "    .dataframe tbody tr th {\n",
       "        vertical-align: top;\n",
       "    }\n",
       "\n",
       "    .dataframe thead th {\n",
       "        text-align: right;\n",
       "    }\n",
       "</style>\n",
       "<table border=\"1\" class=\"dataframe\">\n",
       "  <thead>\n",
       "    <tr style=\"text-align: right;\">\n",
       "      <th></th>\n",
       "      <th>JOB_TITLE</th>\n",
       "      <th>COMPANY_NAME</th>\n",
       "      <th>POST_DATE</th>\n",
       "    </tr>\n",
       "  </thead>\n",
       "  <tbody>\n",
       "    <tr>\n",
       "      <th>0</th>\n",
       "      <td>Job||Job Opening For AI Technologist - Data Sc...</td>\n",
       "      <td>Wipro</td>\n",
       "      <td>27 DAYS AGO</td>\n",
       "    </tr>\n",
       "    <tr>\n",
       "      <th>1</th>\n",
       "      <td>Data Scientist - Noida/Bangalore</td>\n",
       "      <td>EXL</td>\n",
       "      <td>22 DAYS AGO</td>\n",
       "    </tr>\n",
       "    <tr>\n",
       "      <th>2</th>\n",
       "      <td>DigitalBCG GAMMA Data Scientist</td>\n",
       "      <td>Boston Consulting Group</td>\n",
       "      <td>30+ DAYS AGO</td>\n",
       "    </tr>\n",
       "    <tr>\n",
       "      <th>3</th>\n",
       "      <td>Lead Data Scientist</td>\n",
       "      <td>R Systems International</td>\n",
       "      <td>2 DAYS AGO</td>\n",
       "    </tr>\n",
       "    <tr>\n",
       "      <th>4</th>\n",
       "      <td>Data Scientist</td>\n",
       "      <td>Optum</td>\n",
       "      <td>20 DAYS AGO</td>\n",
       "    </tr>\n",
       "    <tr>\n",
       "      <th>5</th>\n",
       "      <td>Data Scientist - Predictive Analytics</td>\n",
       "      <td>Confidential</td>\n",
       "      <td>9 DAYS AGO</td>\n",
       "    </tr>\n",
       "    <tr>\n",
       "      <th>6</th>\n",
       "      <td>Chat-bot Developer / Data Scientist</td>\n",
       "      <td>Big Seo Buzz</td>\n",
       "      <td>20 DAYS AGO</td>\n",
       "    </tr>\n",
       "    <tr>\n",
       "      <th>7</th>\n",
       "      <td>Data Scientist / Chat-bot Developer</td>\n",
       "      <td>Big Seo Buzz</td>\n",
       "      <td>26 DAYS AGO</td>\n",
       "    </tr>\n",
       "    <tr>\n",
       "      <th>8</th>\n",
       "      <td>Data Scientist</td>\n",
       "      <td>Feedback Infra</td>\n",
       "      <td>6 DAYS AGO</td>\n",
       "    </tr>\n",
       "    <tr>\n",
       "      <th>9</th>\n",
       "      <td>Data Scientist - Engine Algorithm</td>\n",
       "      <td>Primo Hiring</td>\n",
       "      <td>14 DAYS AGO</td>\n",
       "    </tr>\n",
       "  </tbody>\n",
       "</table>\n",
       "</div>"
      ],
      "text/plain": [
       "                                           JOB_TITLE             COMPANY_NAME  \\\n",
       "0  Job||Job Opening For AI Technologist - Data Sc...                    Wipro   \n",
       "1                   Data Scientist - Noida/Bangalore                      EXL   \n",
       "2                    DigitalBCG GAMMA Data Scientist  Boston Consulting Group   \n",
       "3                                Lead Data Scientist  R Systems International   \n",
       "4                                     Data Scientist                    Optum   \n",
       "5              Data Scientist - Predictive Analytics             Confidential   \n",
       "6                Chat-bot Developer / Data Scientist             Big Seo Buzz   \n",
       "7                Data Scientist / Chat-bot Developer             Big Seo Buzz   \n",
       "8                                     Data Scientist           Feedback Infra   \n",
       "9                  Data Scientist - Engine Algorithm             Primo Hiring   \n",
       "\n",
       "      POST_DATE  \n",
       "0   27 DAYS AGO  \n",
       "1   22 DAYS AGO  \n",
       "2  30+ DAYS AGO  \n",
       "3    2 DAYS AGO  \n",
       "4   20 DAYS AGO  \n",
       "5    9 DAYS AGO  \n",
       "6   20 DAYS AGO  \n",
       "7   26 DAYS AGO  \n",
       "8    6 DAYS AGO  \n",
       "9   14 DAYS AGO  "
      ]
     },
     "execution_count": 22,
     "metadata": {},
     "output_type": "execute_result"
    }
   ],
   "source": [
    "DataScientist_JOBDelhi"
   ]
  },
  {
   "cell_type": "markdown",
   "id": "a9a6452d",
   "metadata": {},
   "source": [
    "# Q4 Scrape data of first 100 sunglasses listings on flipkart.com."
   ]
  },
  {
   "cell_type": "code",
   "execution_count": 79,
   "id": "9059d29c",
   "metadata": {},
   "outputs": [],
   "source": [
    "driver.get(\"https://www.flipkart.com/\")"
   ]
  },
  {
   "cell_type": "code",
   "execution_count": 83,
   "id": "7920a794",
   "metadata": {},
   "outputs": [],
   "source": [
    "sunglasses = driver.find_element(By.CLASS_NAME,\"_3704LK\")\n",
    "sunglasses.send_keys('Sunglasses')"
   ]
  },
  {
   "cell_type": "code",
   "execution_count": 85,
   "id": "a49e87a4",
   "metadata": {},
   "outputs": [],
   "source": [
    "search = driver.find_element(By.CLASS_NAME,\"L0Z3Pu\")\n",
    "search.click()"
   ]
  },
  {
   "cell_type": "code",
   "execution_count": 109,
   "id": "2bf95717",
   "metadata": {},
   "outputs": [],
   "source": [
    "brand_name = []\n",
    "product_description = []\n",
    "product_price = []"
   ]
  },
  {
   "cell_type": "code",
   "execution_count": 110,
   "id": "5e7c5117",
   "metadata": {},
   "outputs": [],
   "source": [
    "start = 0\n",
    "end = 3\n",
    "for pages in range(start,end):\n",
    "    name_tag = driver.find_elements(By.XPATH,'//div[@class=\"_2WkVRV\"]')\n",
    "    for i in name_tag[0:100]:\n",
    "        brand_name.append(i.text)\n",
    "    next_button = driver.find_elements(By.XPATH,'//a[@class=\"_1LKTO3\"]')\n",
    "    \n",
    "    time.sleep(3)\n",
    "    \n",
    "    "
   ]
  },
  {
   "cell_type": "code",
   "execution_count": 111,
   "id": "001e6308",
   "metadata": {},
   "outputs": [
    {
     "name": "stdout",
     "output_type": "stream",
     "text": [
      "120\n"
     ]
    }
   ],
   "source": [
    "print(len(brand_name))"
   ]
  },
  {
   "cell_type": "code",
   "execution_count": 112,
   "id": "19c570ab",
   "metadata": {},
   "outputs": [],
   "source": [
    "start = 0\n",
    "end = 3\n",
    "for pages in range(start,end):\n",
    "    description_tag = driver.find_elements(By.CLASS_NAME,\"IRpwTa\")\n",
    "    for i in description_tag[0:100]:\n",
    "        product_description.append(i.text)\n",
    "    next_button = driver.find_elements(By.XPATH,'//a[@class=\"_1LKTO3\"]')\n",
    "    \n",
    "    time.sleep(3)"
   ]
  },
  {
   "cell_type": "code",
   "execution_count": 113,
   "id": "e648735d",
   "metadata": {},
   "outputs": [
    {
     "name": "stdout",
     "output_type": "stream",
     "text": [
      "120\n"
     ]
    }
   ],
   "source": [
    "print(len(product_description))"
   ]
  },
  {
   "cell_type": "code",
   "execution_count": 114,
   "id": "4693f3ae",
   "metadata": {},
   "outputs": [],
   "source": [
    "start = 0\n",
    "end = 3\n",
    "for pages in range(start,end):\n",
    "    price_tag = driver.find_elements(By.CLASS_NAME,\"_30jeq3\")\n",
    "    for i in description_tag[0:100]:\n",
    "        product_price.append(i.text)\n",
    "    next_button = driver.find_elements(By.XPATH,'//a[@class=\"_1LKTO3\"]')\n",
    "    \n",
    "    time.sleep(3)"
   ]
  },
  {
   "cell_type": "code",
   "execution_count": 115,
   "id": "b1ee46be",
   "metadata": {},
   "outputs": [
    {
     "name": "stdout",
     "output_type": "stream",
     "text": [
      "120\n"
     ]
    }
   ],
   "source": [
    "print(len(product_price))"
   ]
  },
  {
   "cell_type": "code",
   "execution_count": 116,
   "id": "7a76163b",
   "metadata": {
    "scrolled": false
   },
   "outputs": [
    {
     "data": {
      "text/html": [
       "<div>\n",
       "<style scoped>\n",
       "    .dataframe tbody tr th:only-of-type {\n",
       "        vertical-align: middle;\n",
       "    }\n",
       "\n",
       "    .dataframe tbody tr th {\n",
       "        vertical-align: top;\n",
       "    }\n",
       "\n",
       "    .dataframe thead th {\n",
       "        text-align: right;\n",
       "    }\n",
       "</style>\n",
       "<table border=\"1\" class=\"dataframe\">\n",
       "  <thead>\n",
       "    <tr style=\"text-align: right;\">\n",
       "      <th></th>\n",
       "      <th>brand_name</th>\n",
       "      <th>product_descripton</th>\n",
       "      <th>product_price</th>\n",
       "    </tr>\n",
       "  </thead>\n",
       "  <tbody>\n",
       "    <tr>\n",
       "      <th>0</th>\n",
       "      <td>Fastrack</td>\n",
       "      <td>UV Protection Wayfarer Sunglasses (Free Size)</td>\n",
       "      <td>UV Protection Wayfarer Sunglasses (Free Size)</td>\n",
       "    </tr>\n",
       "    <tr>\n",
       "      <th>1</th>\n",
       "      <td>Elligator</td>\n",
       "      <td>UV Protection Round Sunglasses (54)</td>\n",
       "      <td>UV Protection Round Sunglasses (54)</td>\n",
       "    </tr>\n",
       "    <tr>\n",
       "      <th>2</th>\n",
       "      <td>SRPM</td>\n",
       "      <td>UV Protection Wayfarer Sunglasses (50)</td>\n",
       "      <td>UV Protection Wayfarer Sunglasses (50)</td>\n",
       "    </tr>\n",
       "    <tr>\n",
       "      <th>3</th>\n",
       "      <td>New Specs</td>\n",
       "      <td>UV Protection Rectangular Sunglasses (Free Size)</td>\n",
       "      <td>UV Protection Rectangular Sunglasses (Free Size)</td>\n",
       "    </tr>\n",
       "    <tr>\n",
       "      <th>4</th>\n",
       "      <td>SUNBEE</td>\n",
       "      <td>UV Protection, Polarized Wayfarer Sunglasses (...</td>\n",
       "      <td>UV Protection, Polarized Wayfarer Sunglasses (...</td>\n",
       "    </tr>\n",
       "    <tr>\n",
       "      <th>...</th>\n",
       "      <td>...</td>\n",
       "      <td>...</td>\n",
       "      <td>...</td>\n",
       "    </tr>\n",
       "    <tr>\n",
       "      <th>115</th>\n",
       "      <td>Rich Club</td>\n",
       "      <td>Gradient Wayfarer Sunglasses (52)</td>\n",
       "      <td>Gradient Wayfarer Sunglasses (52)</td>\n",
       "    </tr>\n",
       "    <tr>\n",
       "      <th>116</th>\n",
       "      <td>Fastrack</td>\n",
       "      <td>Gradient Round Sunglasses (Free Size)</td>\n",
       "      <td>Gradient Round Sunglasses (Free Size)</td>\n",
       "    </tr>\n",
       "    <tr>\n",
       "      <th>117</th>\n",
       "      <td>PIRASO</td>\n",
       "      <td>UV Protection Aviator Sunglasses (54)</td>\n",
       "      <td>UV Protection Aviator Sunglasses (54)</td>\n",
       "    </tr>\n",
       "    <tr>\n",
       "      <th>118</th>\n",
       "      <td>PHENOMENAL</td>\n",
       "      <td>UV Protection, Mirrored Retro Square Sunglasse...</td>\n",
       "      <td>UV Protection, Mirrored Retro Square Sunglasse...</td>\n",
       "    </tr>\n",
       "    <tr>\n",
       "      <th>119</th>\n",
       "      <td>ROYAL SON</td>\n",
       "      <td>Mirrored Aviator Sunglasses (55)</td>\n",
       "      <td>Mirrored Aviator Sunglasses (55)</td>\n",
       "    </tr>\n",
       "  </tbody>\n",
       "</table>\n",
       "<p>120 rows × 3 columns</p>\n",
       "</div>"
      ],
      "text/plain": [
       "     brand_name                                 product_descripton  \\\n",
       "0      Fastrack      UV Protection Wayfarer Sunglasses (Free Size)   \n",
       "1     Elligator                UV Protection Round Sunglasses (54)   \n",
       "2          SRPM             UV Protection Wayfarer Sunglasses (50)   \n",
       "3     New Specs   UV Protection Rectangular Sunglasses (Free Size)   \n",
       "4        SUNBEE  UV Protection, Polarized Wayfarer Sunglasses (...   \n",
       "..          ...                                                ...   \n",
       "115   Rich Club                  Gradient Wayfarer Sunglasses (52)   \n",
       "116    Fastrack              Gradient Round Sunglasses (Free Size)   \n",
       "117      PIRASO              UV Protection Aviator Sunglasses (54)   \n",
       "118  PHENOMENAL  UV Protection, Mirrored Retro Square Sunglasse...   \n",
       "119   ROYAL SON                   Mirrored Aviator Sunglasses (55)   \n",
       "\n",
       "                                         product_price  \n",
       "0        UV Protection Wayfarer Sunglasses (Free Size)  \n",
       "1                  UV Protection Round Sunglasses (54)  \n",
       "2               UV Protection Wayfarer Sunglasses (50)  \n",
       "3     UV Protection Rectangular Sunglasses (Free Size)  \n",
       "4    UV Protection, Polarized Wayfarer Sunglasses (...  \n",
       "..                                                 ...  \n",
       "115                  Gradient Wayfarer Sunglasses (52)  \n",
       "116              Gradient Round Sunglasses (Free Size)  \n",
       "117              UV Protection Aviator Sunglasses (54)  \n",
       "118  UV Protection, Mirrored Retro Square Sunglasse...  \n",
       "119                   Mirrored Aviator Sunglasses (55)  \n",
       "\n",
       "[120 rows x 3 columns]"
      ]
     },
     "execution_count": 116,
     "metadata": {},
     "output_type": "execute_result"
    }
   ],
   "source": [
    "df = pd.DataFrame({'brand_name':brand_name,'product_descripton':product_description,'product_price':product_price})\n",
    "df"
   ]
  },
  {
   "cell_type": "markdown",
   "id": "04d73112",
   "metadata": {},
   "source": [
    "# Scrape 100 reviews data from flipkart.com for iphone11 phone# "
   ]
  },
  {
   "cell_type": "code",
   "execution_count": 25,
   "id": "fae04924",
   "metadata": {},
   "outputs": [],
   "source": [
    "driver.get(\" https://www.flipkart.com/apple-iphone-11-black-64-gb-includes-earpods-power-adapter/p/itm0f37c2240b217?pid=MOBFKCTSVZAXUHGR&lid=LSTMOBFKCTSVZAXUHGREPBFGI&marketplace.\")\n",
    "All_rev = driver.find_element(By.XPATH,\"//div[@class='_3UAT2v _16PBlm']/span\")\n",
    "All_rev.click()"
   ]
  },
  {
   "cell_type": "code",
   "execution_count": 27,
   "id": "bfbfdb75",
   "metadata": {},
   "outputs": [],
   "source": [
    "Rating = []\n",
    "Review_summary = []\n",
    "Full_review = []\n",
    "\n",
    "while True:\n",
    "    time.sleep(3)\n",
    "    \n",
    "    for i in driver.find_elements(By.XPATH,\"//div[@class = 'col _2wzgFH K0kLPL']/div[@class= 'row']/div\"):\n",
    "        Rating.append(i.text)\n",
    "        if len(Rating) == 200:\n",
    "            break \n",
    "            \n",
    "    for i in driver.find_elements(By.XPATH,\"//div[@class= 'row']//p[@class = '_2-N8zT']\"):\n",
    "        Review_summary.append(i.text)\n",
    "        if len(Review_summary) == 100:\n",
    "            break \n",
    "            \n",
    "    for i in driver.find_elements(By.XPATH,\"//div[@class= 't-ZTKy']//div[@class]\"):\n",
    "        Full_review.append(i.text.replace('\\n',''))\n",
    "        if len(Full_review) == 100:\n",
    "            break \n",
    "        \n",
    "    if len(Full_review) == 100:\n",
    "        break    \n",
    "                \n",
    "    for i in driver.find_elements(By.XPATH,\"//nav[@class='yFHi8N']//a[@class='_1LKTO3']\"):\n",
    "        next=[i.get_attribute(\"href\")]\n",
    "    \n",
    "    time.sleep(3)\n",
    "        \n",
    "    for n in next:\n",
    "        driver.get(n)\n",
    "\n"
   ]
  },
  {
   "cell_type": "code",
   "execution_count": 28,
   "id": "78fffcab",
   "metadata": {},
   "outputs": [],
   "source": [
    "Rat = []\n",
    "for i in range(0,len(Rating)):\n",
    "    if i == 0 or  i/2 == i//2:\n",
    "        Rat.append(Rating[i])"
   ]
  },
  {
   "cell_type": "code",
   "execution_count": 29,
   "id": "d0e7922a",
   "metadata": {},
   "outputs": [
    {
     "data": {
      "text/html": [
       "<div>\n",
       "<style scoped>\n",
       "    .dataframe tbody tr th:only-of-type {\n",
       "        vertical-align: middle;\n",
       "    }\n",
       "\n",
       "    .dataframe tbody tr th {\n",
       "        vertical-align: top;\n",
       "    }\n",
       "\n",
       "    .dataframe thead th {\n",
       "        text-align: right;\n",
       "    }\n",
       "</style>\n",
       "<table border=\"1\" class=\"dataframe\">\n",
       "  <thead>\n",
       "    <tr style=\"text-align: right;\">\n",
       "      <th></th>\n",
       "      <th>Rating</th>\n",
       "      <th>Review_summary</th>\n",
       "      <th>Full review</th>\n",
       "    </tr>\n",
       "  </thead>\n",
       "  <tbody>\n",
       "    <tr>\n",
       "      <th>0</th>\n",
       "      <td>5</td>\n",
       "      <td>Simply awesome</td>\n",
       "      <td>Really satisfied with the Product I received.....</td>\n",
       "    </tr>\n",
       "    <tr>\n",
       "      <th>1</th>\n",
       "      <td>5</td>\n",
       "      <td>Perfect product!</td>\n",
       "      <td>Amazing phone with great cameras and better ba...</td>\n",
       "    </tr>\n",
       "    <tr>\n",
       "      <th>2</th>\n",
       "      <td>5</td>\n",
       "      <td>Best in the market!</td>\n",
       "      <td>Great iPhone very snappy experience as apple k...</td>\n",
       "    </tr>\n",
       "    <tr>\n",
       "      <th>3</th>\n",
       "      <td>5</td>\n",
       "      <td>Worth every penny</td>\n",
       "      <td>Previously I was using one plus 3t it was a gr...</td>\n",
       "    </tr>\n",
       "    <tr>\n",
       "      <th>4</th>\n",
       "      <td>5</td>\n",
       "      <td>Highly recommended</td>\n",
       "      <td>What a camera .....just awesome ..you can feel...</td>\n",
       "    </tr>\n",
       "    <tr>\n",
       "      <th>...</th>\n",
       "      <td>...</td>\n",
       "      <td>...</td>\n",
       "      <td>...</td>\n",
       "    </tr>\n",
       "    <tr>\n",
       "      <th>95</th>\n",
       "      <td>5</td>\n",
       "      <td>Terrific</td>\n",
       "      <td>I bought iPhone 11 On March 2021, And I am Wri...</td>\n",
       "    </tr>\n",
       "    <tr>\n",
       "      <th>96</th>\n",
       "      <td>5</td>\n",
       "      <td>Excellent</td>\n",
       "      <td>Just go for it.This phone is really amazing. I...</td>\n",
       "    </tr>\n",
       "    <tr>\n",
       "      <th>97</th>\n",
       "      <td>5</td>\n",
       "      <td>Super!</td>\n",
       "      <td>This is my first ever iPhone.And I truly don’t...</td>\n",
       "    </tr>\n",
       "    <tr>\n",
       "      <th>98</th>\n",
       "      <td>5</td>\n",
       "      <td>Mind-blowing purchase</td>\n",
       "      <td>Flipkart honoured on time delivery, I have use...</td>\n",
       "    </tr>\n",
       "    <tr>\n",
       "      <th>99</th>\n",
       "      <td>5</td>\n",
       "      <td>Mind-blowing purchase</td>\n",
       "      <td>Absolutely powerful gadget. Loved it’s look! S...</td>\n",
       "    </tr>\n",
       "  </tbody>\n",
       "</table>\n",
       "<p>100 rows × 3 columns</p>\n",
       "</div>"
      ],
      "text/plain": [
       "   Rating         Review_summary  \\\n",
       "0       5         Simply awesome   \n",
       "1       5       Perfect product!   \n",
       "2       5    Best in the market!   \n",
       "3       5      Worth every penny   \n",
       "4       5     Highly recommended   \n",
       "..    ...                    ...   \n",
       "95      5               Terrific   \n",
       "96      5              Excellent   \n",
       "97      5                 Super!   \n",
       "98      5  Mind-blowing purchase   \n",
       "99      5  Mind-blowing purchase   \n",
       "\n",
       "                                          Full review  \n",
       "0   Really satisfied with the Product I received.....  \n",
       "1   Amazing phone with great cameras and better ba...  \n",
       "2   Great iPhone very snappy experience as apple k...  \n",
       "3   Previously I was using one plus 3t it was a gr...  \n",
       "4   What a camera .....just awesome ..you can feel...  \n",
       "..                                                ...  \n",
       "95  I bought iPhone 11 On March 2021, And I am Wri...  \n",
       "96  Just go for it.This phone is really amazing. I...  \n",
       "97  This is my first ever iPhone.And I truly don’t...  \n",
       "98  Flipkart honoured on time delivery, I have use...  \n",
       "99  Absolutely powerful gadget. Loved it’s look! S...  \n",
       "\n",
       "[100 rows x 3 columns]"
      ]
     },
     "execution_count": 29,
     "metadata": {},
     "output_type": "execute_result"
    }
   ],
   "source": [
    "i_phone11_review = pd.DataFrame({\"Rating\": Rat,\n",
    "                     \"Review_summary\" : Review_summary,\n",
    "                     \"Full review\" : Full_review})\n",
    "\n",
    "i_phone11_review.head(100)\n"
   ]
  },
  {
   "cell_type": "markdown",
   "id": "5934c995",
   "metadata": {},
   "source": [
    "# Scrape data for first 100 sneakers"
   ]
  },
  {
   "cell_type": "code",
   "execution_count": 3,
   "id": "2f7bd093",
   "metadata": {},
   "outputs": [],
   "source": [
    "driver.get(\"https://www.flipkart.com/\")"
   ]
  },
  {
   "cell_type": "code",
   "execution_count": 4,
   "id": "2af94c48",
   "metadata": {},
   "outputs": [],
   "source": [
    "sneakers = driver.find_element(By.CLASS_NAME,\"_3704LK\")\n",
    "sneakers.send_keys(\"sneakers\")"
   ]
  },
  {
   "cell_type": "code",
   "execution_count": 5,
   "id": "0e08fb1a",
   "metadata": {},
   "outputs": [],
   "source": [
    "search = driver.find_element(By.CLASS_NAME,\"L0Z3Pu\")\n",
    "search.click()"
   ]
  },
  {
   "cell_type": "code",
   "execution_count": 37,
   "id": "673332be",
   "metadata": {},
   "outputs": [],
   "source": [
    "sneaker_name = []\n",
    "sneaker_description = []\n",
    "sneaker_price = []"
   ]
  },
  {
   "cell_type": "code",
   "execution_count": 38,
   "id": "d6dffea0",
   "metadata": {},
   "outputs": [],
   "source": [
    "start = 0\n",
    "end = 3\n",
    "for pages in range(start,end):\n",
    "    name_tag = driver.find_elements(By.XPATH,'//div[@class=\"_2WkVRV\"]')\n",
    "    for i in name_tag[0:33]:\n",
    "        sneaker_name.append(i.text[0:100])\n",
    "    next_button = driver.find_element(By.XPATH,'//a[@class=\"_1LKTO3\"]')\n",
    "    next_button.click()\n",
    "    time.sleep(3)\n",
    "    "
   ]
  },
  {
   "cell_type": "code",
   "execution_count": 39,
   "id": "96280194",
   "metadata": {},
   "outputs": [
    {
     "name": "stdout",
     "output_type": "stream",
     "text": [
      "99\n"
     ]
    }
   ],
   "source": [
    "print(len(sneaker_name))"
   ]
  },
  {
   "cell_type": "code",
   "execution_count": 40,
   "id": "d1bbbc4b",
   "metadata": {},
   "outputs": [],
   "source": [
    "start = 0\n",
    "end = 3\n",
    "for pages in range(start,end):\n",
    "    description_tag = driver.find_elements(By.CLASS_NAME,\"IRpwTa\")\n",
    "    for i in description_tag[0:33]:\n",
    "        sneaker_description.append(i.text[0:100])\n",
    "    next_button = driver.find_element(By.XPATH,'//a[@class=\"_1LKTO3\"]')\n",
    "    next_button.click()\n",
    "    time.sleep(3)\n",
    "    "
   ]
  },
  {
   "cell_type": "code",
   "execution_count": 42,
   "id": "8b498856",
   "metadata": {},
   "outputs": [
    {
     "name": "stdout",
     "output_type": "stream",
     "text": [
      "99\n"
     ]
    }
   ],
   "source": [
    "print(len(sneaker_description))"
   ]
  },
  {
   "cell_type": "code",
   "execution_count": 43,
   "id": "fa527b78",
   "metadata": {},
   "outputs": [],
   "source": [
    "start = 0\n",
    "end = 3\n",
    "for pages in range(start,end):\n",
    "    price_tag = driver.find_elements(By.CLASS_NAME,\"_30jeq3\")\n",
    "    for i in price_tag[0:33]:\n",
    "        sneaker_price.append(i.text)\n",
    "    next_button = driver.find_element(By.XPATH,'//a[@class=\"_1LKTO3\"]')\n",
    "    next_button.click()\n",
    "    time.sleep(3)"
   ]
  },
  {
   "cell_type": "code",
   "execution_count": 44,
   "id": "045ade2b",
   "metadata": {},
   "outputs": [
    {
     "name": "stdout",
     "output_type": "stream",
     "text": [
      "99\n"
     ]
    }
   ],
   "source": [
    "print(len(sneaker_price))"
   ]
  },
  {
   "cell_type": "code",
   "execution_count": 45,
   "id": "a6355866",
   "metadata": {},
   "outputs": [
    {
     "data": {
      "text/html": [
       "<div>\n",
       "<style scoped>\n",
       "    .dataframe tbody tr th:only-of-type {\n",
       "        vertical-align: middle;\n",
       "    }\n",
       "\n",
       "    .dataframe tbody tr th {\n",
       "        vertical-align: top;\n",
       "    }\n",
       "\n",
       "    .dataframe thead th {\n",
       "        text-align: right;\n",
       "    }\n",
       "</style>\n",
       "<table border=\"1\" class=\"dataframe\">\n",
       "  <thead>\n",
       "    <tr style=\"text-align: right;\">\n",
       "      <th></th>\n",
       "      <th>brand_name</th>\n",
       "      <th>product_descripton</th>\n",
       "      <th>product_price</th>\n",
       "    </tr>\n",
       "  </thead>\n",
       "  <tbody>\n",
       "    <tr>\n",
       "      <th>0</th>\n",
       "      <td>Numenzo</td>\n",
       "      <td>Newton-01 Men's Lightweight Running Shoes Snea...</td>\n",
       "      <td>₹449</td>\n",
       "    </tr>\n",
       "    <tr>\n",
       "      <th>1</th>\n",
       "      <td>Layasa</td>\n",
       "      <td>2 Combo Sneaker Shoes Sneakers For Men</td>\n",
       "      <td>₹399</td>\n",
       "    </tr>\n",
       "    <tr>\n",
       "      <th>2</th>\n",
       "      <td>kardam&amp;sons</td>\n",
       "      <td>Kwik FIT casual sneaker shoes and partywear sh...</td>\n",
       "      <td>₹448</td>\n",
       "    </tr>\n",
       "    <tr>\n",
       "      <th>3</th>\n",
       "      <td>PUMA</td>\n",
       "      <td>Sneakers For Men</td>\n",
       "      <td>₹598</td>\n",
       "    </tr>\n",
       "    <tr>\n",
       "      <th>4</th>\n",
       "      <td>Kraasa</td>\n",
       "      <td>Sneakers For Men</td>\n",
       "      <td>₹3,354</td>\n",
       "    </tr>\n",
       "    <tr>\n",
       "      <th>...</th>\n",
       "      <td>...</td>\n",
       "      <td>...</td>\n",
       "      <td>...</td>\n",
       "    </tr>\n",
       "    <tr>\n",
       "      <th>94</th>\n",
       "      <td>PUMA</td>\n",
       "      <td>Perfect &amp; Affordable Combo Pack of 02 Pairs Sn...</td>\n",
       "      <td>₹2,134</td>\n",
       "    </tr>\n",
       "    <tr>\n",
       "      <th>95</th>\n",
       "      <td>Dizzler</td>\n",
       "      <td>Stylish &amp; Trending Outdoor Walking Comfortable...</td>\n",
       "      <td>₹499</td>\n",
       "    </tr>\n",
       "    <tr>\n",
       "      <th>96</th>\n",
       "      <td>AMICO</td>\n",
       "      <td>Men White Sneakers Sneakers For Men</td>\n",
       "      <td>₹479</td>\n",
       "    </tr>\n",
       "    <tr>\n",
       "      <th>97</th>\n",
       "      <td>RINDAS</td>\n",
       "      <td>Sneakers For Men</td>\n",
       "      <td>₹599</td>\n",
       "    </tr>\n",
       "    <tr>\n",
       "      <th>98</th>\n",
       "      <td>D-SNEAKERZ</td>\n",
       "      <td>Sneakers For Men</td>\n",
       "      <td>₹414</td>\n",
       "    </tr>\n",
       "  </tbody>\n",
       "</table>\n",
       "<p>99 rows × 3 columns</p>\n",
       "</div>"
      ],
      "text/plain": [
       "     brand_name                                 product_descripton  \\\n",
       "0       Numenzo  Newton-01 Men's Lightweight Running Shoes Snea...   \n",
       "1        Layasa             2 Combo Sneaker Shoes Sneakers For Men   \n",
       "2   kardam&sons  Kwik FIT casual sneaker shoes and partywear sh...   \n",
       "3          PUMA                                   Sneakers For Men   \n",
       "4        Kraasa                                   Sneakers For Men   \n",
       "..          ...                                                ...   \n",
       "94         PUMA  Perfect & Affordable Combo Pack of 02 Pairs Sn...   \n",
       "95      Dizzler  Stylish & Trending Outdoor Walking Comfortable...   \n",
       "96        AMICO                Men White Sneakers Sneakers For Men   \n",
       "97       RINDAS                                   Sneakers For Men   \n",
       "98   D-SNEAKERZ                                   Sneakers For Men   \n",
       "\n",
       "   product_price  \n",
       "0           ₹449  \n",
       "1           ₹399  \n",
       "2           ₹448  \n",
       "3           ₹598  \n",
       "4         ₹3,354  \n",
       "..           ...  \n",
       "94        ₹2,134  \n",
       "95          ₹499  \n",
       "96          ₹479  \n",
       "97          ₹599  \n",
       "98          ₹414  \n",
       "\n",
       "[99 rows x 3 columns]"
      ]
     },
     "execution_count": 45,
     "metadata": {},
     "output_type": "execute_result"
    }
   ],
   "source": [
    "df = pd.DataFrame({'brand_name':sneaker_name,'product_descripton':sneaker_description,'product_price':sneaker_price})\n",
    "df"
   ]
  },
  {
   "cell_type": "markdown",
   "id": "8443a9bb",
   "metadata": {},
   "source": [
    "# Enter “Laptop” in the search field"
   ]
  },
  {
   "cell_type": "code",
   "execution_count": 30,
   "id": "af51abd8",
   "metadata": {},
   "outputs": [],
   "source": [
    "driver.get(\"https://www.amazon.in/\")\n",
    "\n",
    "search_Box = driver.find_element(By.XPATH,\"//div[@class = 'nav-search-field ']/input[@type='text']\")\n",
    "search_Box.send_keys(\"Laptop\")\n",
    "search_btn = driver.find_element(By.XPATH,\"//input[@id= 'nav-search-submit-button']\")\n",
    "search_btn.click()\n",
    "\n",
    "fltr_btn = driver.find_elements(By.XPATH,\"//ul[@aria-labelledby= 'p_n_feature_thirteen_browse-bin-title']//div[@class= 'a-checkbox a-checkbox-fancy s-navigation-checkbox aok-float-left']\")\n",
    "fltr_btn[-3].click()"
   ]
  },
  {
   "cell_type": "markdown",
   "id": "091d2b53",
   "metadata": {},
   "source": [
    "# Go to the link - https://www.myntra.com/shoes"
   ]
  },
  {
   "cell_type": "code",
   "execution_count": 32,
   "id": "ffb0289b",
   "metadata": {},
   "outputs": [],
   "source": [
    "driver.get(\"https://www.myntra.com/shoes\")\n"
   ]
  },
  {
   "cell_type": "code",
   "execution_count": 33,
   "id": "fb2a5267",
   "metadata": {},
   "outputs": [],
   "source": [
    "Filter2 = driver.find_elements(By.XPATH,\"//li[@class ='colour-listItem']//label[@class ='common-customCheckbox']/div[@class = 'common-checkboxIndicator']\") \n",
    "Filter2[0].click()\n",
    "\n",
    "time.sleep(5)\n",
    "Filter1 = driver.find_elements(By.XPATH,\"//ul[@class ='price-list']//label[@class ='common-customCheckbox vertical-filters-label']/div[@class = 'common-checkboxIndicator']\") \n",
    "Filter1[1].click()"
   ]
  },
  {
   "cell_type": "code",
   "execution_count": 36,
   "id": "a4fc131c",
   "metadata": {},
   "outputs": [
    {
     "data": {
      "text/html": [
       "<div>\n",
       "<style scoped>\n",
       "    .dataframe tbody tr th:only-of-type {\n",
       "        vertical-align: middle;\n",
       "    }\n",
       "\n",
       "    .dataframe tbody tr th {\n",
       "        vertical-align: top;\n",
       "    }\n",
       "\n",
       "    .dataframe thead th {\n",
       "        text-align: right;\n",
       "    }\n",
       "</style>\n",
       "<table border=\"1\" class=\"dataframe\">\n",
       "  <thead>\n",
       "    <tr style=\"text-align: right;\">\n",
       "      <th></th>\n",
       "      <th>Brand</th>\n",
       "      <th>description</th>\n",
       "      <th>price</th>\n",
       "    </tr>\n",
       "  </thead>\n",
       "  <tbody>\n",
       "    <tr>\n",
       "      <th>0</th>\n",
       "      <td>Nike</td>\n",
       "      <td>Men ZOOM WINFLO8 Running Shoes</td>\n",
       "      <td>8295</td>\n",
       "    </tr>\n",
       "    <tr>\n",
       "      <th>1</th>\n",
       "      <td>Skechers</td>\n",
       "      <td>Men Max Cushioning Running</td>\n",
       "      <td>8999</td>\n",
       "    </tr>\n",
       "    <tr>\n",
       "      <th>2</th>\n",
       "      <td>ADIDAS Originals</td>\n",
       "      <td>Men Niteball II Sneakers</td>\n",
       "      <td>10999</td>\n",
       "    </tr>\n",
       "    <tr>\n",
       "      <th>3</th>\n",
       "      <td>UNDER ARMOUR</td>\n",
       "      <td>Unisex Curry Basketball Shoes</td>\n",
       "      <td>10999</td>\n",
       "    </tr>\n",
       "    <tr>\n",
       "      <th>4</th>\n",
       "      <td>Nike</td>\n",
       "      <td>Air Max Axis Sneakers</td>\n",
       "      <td>8355</td>\n",
       "    </tr>\n",
       "    <tr>\n",
       "      <th>...</th>\n",
       "      <td>...</td>\n",
       "      <td>...</td>\n",
       "      <td>...</td>\n",
       "    </tr>\n",
       "    <tr>\n",
       "      <th>95</th>\n",
       "      <td>Louis Philippe</td>\n",
       "      <td>Men Textured Leather Loafers</td>\n",
       "      <td>9999</td>\n",
       "    </tr>\n",
       "    <tr>\n",
       "      <th>96</th>\n",
       "      <td>Skechers</td>\n",
       "      <td>Women Air Edge Sneakers</td>\n",
       "      <td>6999</td>\n",
       "    </tr>\n",
       "    <tr>\n",
       "      <th>97</th>\n",
       "      <td>J.FONTINI</td>\n",
       "      <td>Men Textured Leather Loafers</td>\n",
       "      <td>8490</td>\n",
       "    </tr>\n",
       "    <tr>\n",
       "      <th>98</th>\n",
       "      <td>Skechers</td>\n",
       "      <td>Men GRF-Hurtling Running Shoes</td>\n",
       "      <td>6999</td>\n",
       "    </tr>\n",
       "    <tr>\n",
       "      <th>99</th>\n",
       "      <td>ALDO</td>\n",
       "      <td>Women Leather Loafers</td>\n",
       "      <td>11999</td>\n",
       "    </tr>\n",
       "  </tbody>\n",
       "</table>\n",
       "<p>100 rows × 3 columns</p>\n",
       "</div>"
      ],
      "text/plain": [
       "               Brand                     description  price\n",
       "0               Nike  Men ZOOM WINFLO8 Running Shoes   8295\n",
       "1           Skechers      Men Max Cushioning Running   8999\n",
       "2   ADIDAS Originals        Men Niteball II Sneakers  10999\n",
       "3       UNDER ARMOUR   Unisex Curry Basketball Shoes  10999\n",
       "4               Nike           Air Max Axis Sneakers   8355\n",
       "..               ...                             ...    ...\n",
       "95    Louis Philippe    Men Textured Leather Loafers   9999\n",
       "96          Skechers         Women Air Edge Sneakers   6999\n",
       "97         J.FONTINI    Men Textured Leather Loafers   8490\n",
       "98          Skechers  Men GRF-Hurtling Running Shoes   6999\n",
       "99              ALDO           Women Leather Loafers  11999\n",
       "\n",
       "[100 rows x 3 columns]"
      ]
     },
     "execution_count": 36,
     "metadata": {},
     "output_type": "execute_result"
    }
   ],
   "source": [
    "Brand,description,price = [], [], []\n",
    "q = 0\n",
    "\n",
    "while q<2:\n",
    "    time.sleep(3)\n",
    "    for i in driver.find_elements(By.XPATH,\"//div[@class= 'product-productMetaInfo']//h3[@class = 'product-brand']\"):\n",
    "        Brand.append(i.text)\n",
    "    \n",
    "    for i in driver.find_elements(By.XPATH,\"//div[@class= 'product-productMetaInfo']//h4[@class = 'product-product']\"):\n",
    "        description.append(i.text)\n",
    "    \n",
    "    for i in driver.find_elements(By.XPATH,\"//div[@class= 'product-productMetaInfo']//div[@class = 'product-price']\"):\n",
    "        price.append(i.text)\n",
    "    \n",
    "    nxt = driver.find_element(By.XPATH,\"//a[@rel = 'next']\")\n",
    "    nxt.click()\n",
    "    q +=1\n",
    "\n",
    "driver.close()     \n",
    "price= [i.split('Rs. ')[1] for i in price]   \n",
    "\n",
    "myntra_blackshoes = pd.DataFrame({\"Brand\":Brand,\"description\":description,\"price\":price})\n",
    "myntra_blackshoes"
   ]
  },
  {
   "cell_type": "code",
   "execution_count": null,
   "id": "6dd84316",
   "metadata": {},
   "outputs": [],
   "source": []
  }
 ],
 "metadata": {
  "kernelspec": {
   "display_name": "Python 3 (ipykernel)",
   "language": "python",
   "name": "python3"
  },
  "language_info": {
   "codemirror_mode": {
    "name": "ipython",
    "version": 3
   },
   "file_extension": ".py",
   "mimetype": "text/x-python",
   "name": "python",
   "nbconvert_exporter": "python",
   "pygments_lexer": "ipython3",
   "version": "3.9.7"
  }
 },
 "nbformat": 4,
 "nbformat_minor": 5
}
