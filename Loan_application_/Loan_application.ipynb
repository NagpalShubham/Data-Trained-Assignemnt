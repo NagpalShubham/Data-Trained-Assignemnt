{
 "cells": [
  {
   "cell_type": "markdown",
   "id": "e58cd618",
   "metadata": {},
   "source": [
    "# Loan application status"
   ]
  },
  {
   "cell_type": "markdown",
   "id": "f2adfc2b",
   "metadata": {},
   "source": [
    "People apply for laon and for the banks they have to validate that whether person should be given loan or not. We have to build a system which will take certain data point as input and provide output as loan should be given or not. we have dataset and this dataset includes details of applicants who have applied for loan. The dataset includes details like credit history, loan amount, their income, dependents etc.\n",
    "\n",
    "it is a biney classification problem and we will have to build a model on top of it.\n",
    "\n"
   ]
  },
  {
   "cell_type": "code",
   "execution_count": 1,
   "id": "97b9e96a",
   "metadata": {},
   "outputs": [],
   "source": [
    "import pandas as pd\n",
    "import numpy as np\n",
    "import matplotlib.pyplot as plt\n",
    "import seaborn as sns\n",
    "import warnings\n",
    "warnings.filterwarnings(\"ignore\")"
   ]
  },
  {
   "cell_type": "code",
   "execution_count": 4,
   "id": "ac4ee729",
   "metadata": {},
   "outputs": [
    {
     "data": {
      "text/html": [
       "<div>\n",
       "<style scoped>\n",
       "    .dataframe tbody tr th:only-of-type {\n",
       "        vertical-align: middle;\n",
       "    }\n",
       "\n",
       "    .dataframe tbody tr th {\n",
       "        vertical-align: top;\n",
       "    }\n",
       "\n",
       "    .dataframe thead th {\n",
       "        text-align: right;\n",
       "    }\n",
       "</style>\n",
       "<table border=\"1\" class=\"dataframe\">\n",
       "  <thead>\n",
       "    <tr style=\"text-align: right;\">\n",
       "      <th></th>\n",
       "      <th>Loan_ID</th>\n",
       "      <th>Gender</th>\n",
       "      <th>Married</th>\n",
       "      <th>Dependents</th>\n",
       "      <th>Education</th>\n",
       "      <th>Self_Employed</th>\n",
       "      <th>ApplicantIncome</th>\n",
       "      <th>CoapplicantIncome</th>\n",
       "      <th>LoanAmount</th>\n",
       "      <th>Loan_Amount_Term</th>\n",
       "      <th>Credit_History</th>\n",
       "      <th>Property_Area</th>\n",
       "      <th>Loan_Status</th>\n",
       "    </tr>\n",
       "  </thead>\n",
       "  <tbody>\n",
       "    <tr>\n",
       "      <th>0</th>\n",
       "      <td>LP001002</td>\n",
       "      <td>Male</td>\n",
       "      <td>No</td>\n",
       "      <td>0</td>\n",
       "      <td>Graduate</td>\n",
       "      <td>No</td>\n",
       "      <td>5849</td>\n",
       "      <td>0.0</td>\n",
       "      <td>NaN</td>\n",
       "      <td>360.0</td>\n",
       "      <td>1.0</td>\n",
       "      <td>Urban</td>\n",
       "      <td>Y</td>\n",
       "    </tr>\n",
       "    <tr>\n",
       "      <th>1</th>\n",
       "      <td>LP001003</td>\n",
       "      <td>Male</td>\n",
       "      <td>Yes</td>\n",
       "      <td>1</td>\n",
       "      <td>Graduate</td>\n",
       "      <td>No</td>\n",
       "      <td>4583</td>\n",
       "      <td>1508.0</td>\n",
       "      <td>128.0</td>\n",
       "      <td>360.0</td>\n",
       "      <td>1.0</td>\n",
       "      <td>Rural</td>\n",
       "      <td>N</td>\n",
       "    </tr>\n",
       "    <tr>\n",
       "      <th>2</th>\n",
       "      <td>LP001005</td>\n",
       "      <td>Male</td>\n",
       "      <td>Yes</td>\n",
       "      <td>0</td>\n",
       "      <td>Graduate</td>\n",
       "      <td>Yes</td>\n",
       "      <td>3000</td>\n",
       "      <td>0.0</td>\n",
       "      <td>66.0</td>\n",
       "      <td>360.0</td>\n",
       "      <td>1.0</td>\n",
       "      <td>Urban</td>\n",
       "      <td>Y</td>\n",
       "    </tr>\n",
       "    <tr>\n",
       "      <th>3</th>\n",
       "      <td>LP001006</td>\n",
       "      <td>Male</td>\n",
       "      <td>Yes</td>\n",
       "      <td>0</td>\n",
       "      <td>Not Graduate</td>\n",
       "      <td>No</td>\n",
       "      <td>2583</td>\n",
       "      <td>2358.0</td>\n",
       "      <td>120.0</td>\n",
       "      <td>360.0</td>\n",
       "      <td>1.0</td>\n",
       "      <td>Urban</td>\n",
       "      <td>Y</td>\n",
       "    </tr>\n",
       "    <tr>\n",
       "      <th>4</th>\n",
       "      <td>LP001008</td>\n",
       "      <td>Male</td>\n",
       "      <td>No</td>\n",
       "      <td>0</td>\n",
       "      <td>Graduate</td>\n",
       "      <td>No</td>\n",
       "      <td>6000</td>\n",
       "      <td>0.0</td>\n",
       "      <td>141.0</td>\n",
       "      <td>360.0</td>\n",
       "      <td>1.0</td>\n",
       "      <td>Urban</td>\n",
       "      <td>Y</td>\n",
       "    </tr>\n",
       "  </tbody>\n",
       "</table>\n",
       "</div>"
      ],
      "text/plain": [
       "    Loan_ID Gender Married Dependents     Education Self_Employed  \\\n",
       "0  LP001002   Male      No          0      Graduate            No   \n",
       "1  LP001003   Male     Yes          1      Graduate            No   \n",
       "2  LP001005   Male     Yes          0      Graduate           Yes   \n",
       "3  LP001006   Male     Yes          0  Not Graduate            No   \n",
       "4  LP001008   Male      No          0      Graduate            No   \n",
       "\n",
       "   ApplicantIncome  CoapplicantIncome  LoanAmount  Loan_Amount_Term  \\\n",
       "0             5849                0.0         NaN             360.0   \n",
       "1             4583             1508.0       128.0             360.0   \n",
       "2             3000                0.0        66.0             360.0   \n",
       "3             2583             2358.0       120.0             360.0   \n",
       "4             6000                0.0       141.0             360.0   \n",
       "\n",
       "   Credit_History Property_Area Loan_Status  \n",
       "0             1.0         Urban           Y  \n",
       "1             1.0         Rural           N  \n",
       "2             1.0         Urban           Y  \n",
       "3             1.0         Urban           Y  \n",
       "4             1.0         Urban           Y  "
      ]
     },
     "execution_count": 4,
     "metadata": {},
     "output_type": "execute_result"
    }
   ],
   "source": [
    "loan_details_ds = pd.read_csv(\"loan_application.csv\")\n",
    "loan_details_ds.head()"
   ]
  },
  {
   "cell_type": "code",
   "execution_count": 5,
   "id": "0bcb1eb3",
   "metadata": {},
   "outputs": [
    {
     "data": {
      "text/html": [
       "<div>\n",
       "<style scoped>\n",
       "    .dataframe tbody tr th:only-of-type {\n",
       "        vertical-align: middle;\n",
       "    }\n",
       "\n",
       "    .dataframe tbody tr th {\n",
       "        vertical-align: top;\n",
       "    }\n",
       "\n",
       "    .dataframe thead th {\n",
       "        text-align: right;\n",
       "    }\n",
       "</style>\n",
       "<table border=\"1\" class=\"dataframe\">\n",
       "  <thead>\n",
       "    <tr style=\"text-align: right;\">\n",
       "      <th></th>\n",
       "      <th>Loan_ID</th>\n",
       "      <th>Gender</th>\n",
       "      <th>Married</th>\n",
       "      <th>Dependents</th>\n",
       "      <th>Education</th>\n",
       "      <th>Self_Employed</th>\n",
       "      <th>ApplicantIncome</th>\n",
       "      <th>CoapplicantIncome</th>\n",
       "      <th>LoanAmount</th>\n",
       "      <th>Loan_Amount_Term</th>\n",
       "      <th>Credit_History</th>\n",
       "      <th>Property_Area</th>\n",
       "      <th>Loan_Status</th>\n",
       "    </tr>\n",
       "  </thead>\n",
       "  <tbody>\n",
       "    <tr>\n",
       "      <th>609</th>\n",
       "      <td>LP002978</td>\n",
       "      <td>Female</td>\n",
       "      <td>No</td>\n",
       "      <td>0</td>\n",
       "      <td>Graduate</td>\n",
       "      <td>No</td>\n",
       "      <td>2900</td>\n",
       "      <td>0.0</td>\n",
       "      <td>71.0</td>\n",
       "      <td>360.0</td>\n",
       "      <td>1.0</td>\n",
       "      <td>Rural</td>\n",
       "      <td>Y</td>\n",
       "    </tr>\n",
       "    <tr>\n",
       "      <th>610</th>\n",
       "      <td>LP002979</td>\n",
       "      <td>Male</td>\n",
       "      <td>Yes</td>\n",
       "      <td>3+</td>\n",
       "      <td>Graduate</td>\n",
       "      <td>No</td>\n",
       "      <td>4106</td>\n",
       "      <td>0.0</td>\n",
       "      <td>40.0</td>\n",
       "      <td>180.0</td>\n",
       "      <td>1.0</td>\n",
       "      <td>Rural</td>\n",
       "      <td>Y</td>\n",
       "    </tr>\n",
       "    <tr>\n",
       "      <th>611</th>\n",
       "      <td>LP002983</td>\n",
       "      <td>Male</td>\n",
       "      <td>Yes</td>\n",
       "      <td>1</td>\n",
       "      <td>Graduate</td>\n",
       "      <td>No</td>\n",
       "      <td>8072</td>\n",
       "      <td>240.0</td>\n",
       "      <td>253.0</td>\n",
       "      <td>360.0</td>\n",
       "      <td>1.0</td>\n",
       "      <td>Urban</td>\n",
       "      <td>Y</td>\n",
       "    </tr>\n",
       "    <tr>\n",
       "      <th>612</th>\n",
       "      <td>LP002984</td>\n",
       "      <td>Male</td>\n",
       "      <td>Yes</td>\n",
       "      <td>2</td>\n",
       "      <td>Graduate</td>\n",
       "      <td>No</td>\n",
       "      <td>7583</td>\n",
       "      <td>0.0</td>\n",
       "      <td>187.0</td>\n",
       "      <td>360.0</td>\n",
       "      <td>1.0</td>\n",
       "      <td>Urban</td>\n",
       "      <td>Y</td>\n",
       "    </tr>\n",
       "    <tr>\n",
       "      <th>613</th>\n",
       "      <td>LP002990</td>\n",
       "      <td>Female</td>\n",
       "      <td>No</td>\n",
       "      <td>0</td>\n",
       "      <td>Graduate</td>\n",
       "      <td>Yes</td>\n",
       "      <td>4583</td>\n",
       "      <td>0.0</td>\n",
       "      <td>133.0</td>\n",
       "      <td>360.0</td>\n",
       "      <td>0.0</td>\n",
       "      <td>Semiurban</td>\n",
       "      <td>N</td>\n",
       "    </tr>\n",
       "  </tbody>\n",
       "</table>\n",
       "</div>"
      ],
      "text/plain": [
       "      Loan_ID  Gender Married Dependents Education Self_Employed  \\\n",
       "609  LP002978  Female      No          0  Graduate            No   \n",
       "610  LP002979    Male     Yes         3+  Graduate            No   \n",
       "611  LP002983    Male     Yes          1  Graduate            No   \n",
       "612  LP002984    Male     Yes          2  Graduate            No   \n",
       "613  LP002990  Female      No          0  Graduate           Yes   \n",
       "\n",
       "     ApplicantIncome  CoapplicantIncome  LoanAmount  Loan_Amount_Term  \\\n",
       "609             2900                0.0        71.0             360.0   \n",
       "610             4106                0.0        40.0             180.0   \n",
       "611             8072              240.0       253.0             360.0   \n",
       "612             7583                0.0       187.0             360.0   \n",
       "613             4583                0.0       133.0             360.0   \n",
       "\n",
       "     Credit_History Property_Area Loan_Status  \n",
       "609             1.0         Rural           Y  \n",
       "610             1.0         Rural           Y  \n",
       "611             1.0         Urban           Y  \n",
       "612             1.0         Urban           Y  \n",
       "613             0.0     Semiurban           N  "
      ]
     },
     "execution_count": 5,
     "metadata": {},
     "output_type": "execute_result"
    }
   ],
   "source": [
    "loan_details_ds.tail()"
   ]
  },
  {
   "cell_type": "code",
   "execution_count": 6,
   "id": "c051dfd0",
   "metadata": {},
   "outputs": [
    {
     "name": "stdout",
     "output_type": "stream",
     "text": [
      "<class 'pandas.core.frame.DataFrame'>\n",
      "RangeIndex: 614 entries, 0 to 613\n",
      "Data columns (total 13 columns):\n",
      " #   Column             Non-Null Count  Dtype  \n",
      "---  ------             --------------  -----  \n",
      " 0   Loan_ID            614 non-null    object \n",
      " 1   Gender             601 non-null    object \n",
      " 2   Married            611 non-null    object \n",
      " 3   Dependents         599 non-null    object \n",
      " 4   Education          614 non-null    object \n",
      " 5   Self_Employed      582 non-null    object \n",
      " 6   ApplicantIncome    614 non-null    int64  \n",
      " 7   CoapplicantIncome  614 non-null    float64\n",
      " 8   LoanAmount         592 non-null    float64\n",
      " 9   Loan_Amount_Term   600 non-null    float64\n",
      " 10  Credit_History     564 non-null    float64\n",
      " 11  Property_Area      614 non-null    object \n",
      " 12  Loan_Status        614 non-null    object \n",
      "dtypes: float64(4), int64(1), object(8)\n",
      "memory usage: 62.5+ KB\n"
     ]
    }
   ],
   "source": [
    "loan_details_ds.info()"
   ]
  },
  {
   "cell_type": "markdown",
   "id": "b6705321",
   "metadata": {},
   "source": [
    "Dataset has 614 observations and 13 column including Target column, we have 8 object type columns, 5 numeric columns.target columns is a binery value columns.we have missing value in the columns check lets them"
   ]
  },
  {
   "cell_type": "code",
   "execution_count": 7,
   "id": "28dcfafa",
   "metadata": {},
   "outputs": [
    {
     "name": "stdout",
     "output_type": "stream",
     "text": [
      "{'Gender': 13, 'Married': 3, 'Dependents': 15, 'Self_Employed': 32, 'LoanAmount': 22, 'Loan_Amount_Term': 14, 'Credit_History': 50}\n"
     ]
    }
   ],
   "source": [
    "# checking missing values\n",
    "\n",
    "missing = {}\n",
    "for i in loan_details_ds.columns:\n",
    "    if loan_details_ds[i].isnull().sum():\n",
    "        missing[i] = loan_details_ds[i].isnull().sum()\n",
    "print(missing)"
   ]
  },
  {
   "cell_type": "code",
   "execution_count": 8,
   "id": "9039ab7c",
   "metadata": {},
   "outputs": [
    {
     "data": {
      "text/html": [
       "<div>\n",
       "<style scoped>\n",
       "    .dataframe tbody tr th:only-of-type {\n",
       "        vertical-align: middle;\n",
       "    }\n",
       "\n",
       "    .dataframe tbody tr th {\n",
       "        vertical-align: top;\n",
       "    }\n",
       "\n",
       "    .dataframe thead th {\n",
       "        text-align: right;\n",
       "    }\n",
       "</style>\n",
       "<table border=\"1\" class=\"dataframe\">\n",
       "  <thead>\n",
       "    <tr style=\"text-align: right;\">\n",
       "      <th></th>\n",
       "      <th>ApplicantIncome</th>\n",
       "      <th>CoapplicantIncome</th>\n",
       "      <th>LoanAmount</th>\n",
       "      <th>Loan_Amount_Term</th>\n",
       "      <th>Credit_History</th>\n",
       "    </tr>\n",
       "  </thead>\n",
       "  <tbody>\n",
       "    <tr>\n",
       "      <th>count</th>\n",
       "      <td>614.000000</td>\n",
       "      <td>614.000000</td>\n",
       "      <td>592.000000</td>\n",
       "      <td>600.00000</td>\n",
       "      <td>564.000000</td>\n",
       "    </tr>\n",
       "    <tr>\n",
       "      <th>mean</th>\n",
       "      <td>5403.459283</td>\n",
       "      <td>1621.245798</td>\n",
       "      <td>146.412162</td>\n",
       "      <td>342.00000</td>\n",
       "      <td>0.842199</td>\n",
       "    </tr>\n",
       "    <tr>\n",
       "      <th>std</th>\n",
       "      <td>6109.041673</td>\n",
       "      <td>2926.248369</td>\n",
       "      <td>85.587325</td>\n",
       "      <td>65.12041</td>\n",
       "      <td>0.364878</td>\n",
       "    </tr>\n",
       "    <tr>\n",
       "      <th>min</th>\n",
       "      <td>150.000000</td>\n",
       "      <td>0.000000</td>\n",
       "      <td>9.000000</td>\n",
       "      <td>12.00000</td>\n",
       "      <td>0.000000</td>\n",
       "    </tr>\n",
       "    <tr>\n",
       "      <th>25%</th>\n",
       "      <td>2877.500000</td>\n",
       "      <td>0.000000</td>\n",
       "      <td>100.000000</td>\n",
       "      <td>360.00000</td>\n",
       "      <td>1.000000</td>\n",
       "    </tr>\n",
       "    <tr>\n",
       "      <th>50%</th>\n",
       "      <td>3812.500000</td>\n",
       "      <td>1188.500000</td>\n",
       "      <td>128.000000</td>\n",
       "      <td>360.00000</td>\n",
       "      <td>1.000000</td>\n",
       "    </tr>\n",
       "    <tr>\n",
       "      <th>75%</th>\n",
       "      <td>5795.000000</td>\n",
       "      <td>2297.250000</td>\n",
       "      <td>168.000000</td>\n",
       "      <td>360.00000</td>\n",
       "      <td>1.000000</td>\n",
       "    </tr>\n",
       "    <tr>\n",
       "      <th>max</th>\n",
       "      <td>81000.000000</td>\n",
       "      <td>41667.000000</td>\n",
       "      <td>700.000000</td>\n",
       "      <td>480.00000</td>\n",
       "      <td>1.000000</td>\n",
       "    </tr>\n",
       "  </tbody>\n",
       "</table>\n",
       "</div>"
      ],
      "text/plain": [
       "       ApplicantIncome  CoapplicantIncome  LoanAmount  Loan_Amount_Term  \\\n",
       "count       614.000000         614.000000  592.000000         600.00000   \n",
       "mean       5403.459283        1621.245798  146.412162         342.00000   \n",
       "std        6109.041673        2926.248369   85.587325          65.12041   \n",
       "min         150.000000           0.000000    9.000000          12.00000   \n",
       "25%        2877.500000           0.000000  100.000000         360.00000   \n",
       "50%        3812.500000        1188.500000  128.000000         360.00000   \n",
       "75%        5795.000000        2297.250000  168.000000         360.00000   \n",
       "max       81000.000000       41667.000000  700.000000         480.00000   \n",
       "\n",
       "       Credit_History  \n",
       "count      564.000000  \n",
       "mean         0.842199  \n",
       "std          0.364878  \n",
       "min          0.000000  \n",
       "25%          1.000000  \n",
       "50%          1.000000  \n",
       "75%          1.000000  \n",
       "max          1.000000  "
      ]
     },
     "execution_count": 8,
     "metadata": {},
     "output_type": "execute_result"
    }
   ],
   "source": [
    "loan_details_ds.describe()"
   ]
  },
  {
   "cell_type": "markdown",
   "id": "af67da0b",
   "metadata": {},
   "source": [
    "we have huge variance in Applicantincome column and it is left skewed one and we have same observation for coapplicantincome as well. Minimum co applicant income is 0 till 25th percentile.\n",
    "loan amount is right skewed and we see that there are some extreme value are there. Loan_Amount_term is the year of loan, min is 1 year and maximum is 40. credit history is binery column with 0 and 1 values. assuming that credit history 1 is good and 0 is not good"
   ]
  },
  {
   "cell_type": "code",
   "execution_count": 9,
   "id": "f2ca2906",
   "metadata": {},
   "outputs": [
    {
     "data": {
      "text/html": [
       "<div>\n",
       "<style scoped>\n",
       "    .dataframe tbody tr th:only-of-type {\n",
       "        vertical-align: middle;\n",
       "    }\n",
       "\n",
       "    .dataframe tbody tr th {\n",
       "        vertical-align: top;\n",
       "    }\n",
       "\n",
       "    .dataframe thead th {\n",
       "        text-align: right;\n",
       "    }\n",
       "</style>\n",
       "<table border=\"1\" class=\"dataframe\">\n",
       "  <thead>\n",
       "    <tr style=\"text-align: right;\">\n",
       "      <th></th>\n",
       "      <th>Loan_ID</th>\n",
       "      <th>Gender</th>\n",
       "      <th>Married</th>\n",
       "      <th>Dependents</th>\n",
       "      <th>Education</th>\n",
       "      <th>Self_Employed</th>\n",
       "      <th>Property_Area</th>\n",
       "      <th>Loan_Status</th>\n",
       "    </tr>\n",
       "  </thead>\n",
       "  <tbody>\n",
       "    <tr>\n",
       "      <th>count</th>\n",
       "      <td>614</td>\n",
       "      <td>601</td>\n",
       "      <td>611</td>\n",
       "      <td>599</td>\n",
       "      <td>614</td>\n",
       "      <td>582</td>\n",
       "      <td>614</td>\n",
       "      <td>614</td>\n",
       "    </tr>\n",
       "    <tr>\n",
       "      <th>unique</th>\n",
       "      <td>614</td>\n",
       "      <td>2</td>\n",
       "      <td>2</td>\n",
       "      <td>4</td>\n",
       "      <td>2</td>\n",
       "      <td>2</td>\n",
       "      <td>3</td>\n",
       "      <td>2</td>\n",
       "    </tr>\n",
       "    <tr>\n",
       "      <th>top</th>\n",
       "      <td>LP001002</td>\n",
       "      <td>Male</td>\n",
       "      <td>Yes</td>\n",
       "      <td>0</td>\n",
       "      <td>Graduate</td>\n",
       "      <td>No</td>\n",
       "      <td>Semiurban</td>\n",
       "      <td>Y</td>\n",
       "    </tr>\n",
       "    <tr>\n",
       "      <th>freq</th>\n",
       "      <td>1</td>\n",
       "      <td>489</td>\n",
       "      <td>398</td>\n",
       "      <td>345</td>\n",
       "      <td>480</td>\n",
       "      <td>500</td>\n",
       "      <td>233</td>\n",
       "      <td>422</td>\n",
       "    </tr>\n",
       "  </tbody>\n",
       "</table>\n",
       "</div>"
      ],
      "text/plain": [
       "         Loan_ID Gender Married Dependents Education Self_Employed  \\\n",
       "count        614    601     611        599       614           582   \n",
       "unique       614      2       2          4         2             2   \n",
       "top     LP001002   Male     Yes          0  Graduate            No   \n",
       "freq           1    489     398        345       480           500   \n",
       "\n",
       "       Property_Area Loan_Status  \n",
       "count            614         614  \n",
       "unique             3           2  \n",
       "top        Semiurban           Y  \n",
       "freq             233         422  "
      ]
     },
     "execution_count": 9,
     "metadata": {},
     "output_type": "execute_result"
    }
   ],
   "source": [
    "loan_details_ds.select_dtypes(include=\"object\").describe()"
   ]
  },
  {
   "cell_type": "markdown",
   "id": "a63f4764",
   "metadata": {},
   "source": [
    "count of Male applying loan is higher than female. 65% people are married who appiled for loan, 79% people are graduate and 38% people belong to semiurban area. 68% applicants' application are accepted."
   ]
  },
  {
   "cell_type": "code",
   "execution_count": 10,
   "id": "23a773e4",
   "metadata": {},
   "outputs": [
    {
     "data": {
      "text/plain": [
       "Loan_ID              0.000000\n",
       "Gender               2.117264\n",
       "Married              0.488599\n",
       "Dependents           2.442997\n",
       "Education            0.000000\n",
       "Self_Employed        5.211726\n",
       "ApplicantIncome      0.000000\n",
       "CoapplicantIncome    0.000000\n",
       "LoanAmount           3.583062\n",
       "Loan_Amount_Term     2.280130\n",
       "Credit_History       8.143322\n",
       "Property_Area        0.000000\n",
       "Loan_Status          0.000000\n",
       "dtype: float64"
      ]
     },
     "execution_count": 10,
     "metadata": {},
     "output_type": "execute_result"
    }
   ],
   "source": [
    "loan_details_ds.isnull().sum()/len(loan_details_ds)*100"
   ]
  },
  {
   "cell_type": "markdown",
   "id": "a1787df9",
   "metadata": {},
   "source": [
    "Missing values are not more than 8% in dataset, we see missing value percentages columns wise in above table,i will impute them wth mean median and mode"
   ]
  },
  {
   "cell_type": "markdown",
   "id": "76640d4b",
   "metadata": {},
   "source": [
    "# Missing Value "
   ]
  },
  {
   "cell_type": "code",
   "execution_count": 11,
   "id": "2f8fa9d7",
   "metadata": {},
   "outputs": [
    {
     "data": {
      "text/plain": [
       "Loan_Status  Credit_History\n",
       "N            0.0                82\n",
       "             1.0                97\n",
       "Y            0.0                 7\n",
       "             1.0               378\n",
       "Name: Loan_Status, dtype: int64"
      ]
     },
     "execution_count": 11,
     "metadata": {},
     "output_type": "execute_result"
    }
   ],
   "source": [
    "loan_details_ds[\"Gender\"] = loan_details_ds[\"Gender\"].fillna(loan_details_ds[\"Gender\"].mode()[0])\n",
    "loan_details_ds[\"Married\"] = loan_details_ds[\"Married\"].fillna(loan_details_ds[\"Married\"].mode()[0])\n",
    "loan_details_ds[\"Dependents\"] = loan_details_ds[\"Dependents\"].fillna(loan_details_ds[\"Dependents\"].mode()[0])\n",
    "loan_details_ds[\"Self_Employed\"] = loan_details_ds[\"Self_Employed\"].fillna(loan_details_ds[\"Self_Employed\"].mode()[0])\n",
    "loan_details_ds[\"LoanAmount\"] = loan_details_ds[\"LoanAmount\"].fillna(loan_details_ds[\"LoanAmount\"].median())\n",
    "loan_details_ds[\"Loan_Amount_Term\"] = loan_details_ds[\"Loan_Amount_Term\"].fillna(loan_details_ds[\"Loan_Amount_Term\"].median())\n",
    "loan_details_ds.groupby([\"Loan_Status\",\"Credit_History\"])[\"Loan_Status\"].count()"
   ]
  },
  {
   "cell_type": "code",
   "execution_count": 12,
   "id": "edb2dfa5",
   "metadata": {},
   "outputs": [],
   "source": [
    "def impute_credit_history(x):\n",
    "    credit = x[0]\n",
    "    Loan_Status = x[1]\n",
    "    \n",
    "    if pd.isnull(credit):\n",
    "        if Loan_Status ==\"Y\":\n",
    "            return 1\n",
    "        elif Loan_Status ==\"N\":\n",
    "            return 0\n",
    "    else:\n",
    "        return credit\n",
    "loan_details_ds[\"Credit_History\"] = loan_details_ds[[\"Credit_History\",\"Loan_Status\"]].apply(impute_credit_history,axis =1) "
   ]
  },
  {
   "cell_type": "code",
   "execution_count": 13,
   "id": "a1705066",
   "metadata": {},
   "outputs": [
    {
     "name": "stdout",
     "output_type": "stream",
     "text": [
      "{}\n"
     ]
    }
   ],
   "source": [
    "missing = {}\n",
    "for i in loan_details_ds.columns:\n",
    "    if loan_details_ds[i].isnull().sum():\n",
    "        missing[i] = loan_details_ds[i].isnull().sum()\n",
    "print(missing)"
   ]
  },
  {
   "cell_type": "markdown",
   "id": "b10d94b5",
   "metadata": {},
   "source": [
    "We have imputed missing values from all the columns."
   ]
  },
  {
   "cell_type": "markdown",
   "id": "c936f59a",
   "metadata": {},
   "source": [
    "# EDA"
   ]
  },
  {
   "cell_type": "code",
   "execution_count": 14,
   "id": "2ca739bc",
   "metadata": {},
   "outputs": [
    {
     "data": {
      "text/plain": [
       "<AxesSubplot:xlabel='Loan_Status', ylabel='count'>"
      ]
     },
     "execution_count": 14,
     "metadata": {},
     "output_type": "execute_result"
    },
    {
     "data": {
      "image/png": "[encoded data removed]",
      "text/plain": [
       "<Figure size 432x288 with 1 Axes>"
      ]
     },
     "metadata": {
      "needs_background": "light"
     },
     "output_type": "display_data"
    }
   ],
   "source": [
    "\n",
    "sns.countplot(loan_details_ds[\"Loan_Status\"])"
   ]
  },
  {
   "cell_type": "code",
   "execution_count": 15,
   "id": "04bf9264",
   "metadata": {},
   "outputs": [
    {
     "name": "stdout",
     "output_type": "stream",
     "text": [
      "Male      502\n",
      "Female    112\n",
      "Name: Gender, dtype: int64 \n",
      "\n",
      "Yes    401\n",
      "No     213\n",
      "Name: Married, dtype: int64 \n",
      "\n",
      "0     360\n",
      "1     102\n",
      "2     101\n",
      "3+     51\n",
      "Name: Dependents, dtype: int64 \n",
      "\n",
      "Graduate        480\n",
      "Not Graduate    134\n",
      "Name: Education, dtype: int64 \n",
      "\n",
      "No     532\n",
      "Yes     82\n",
      "Name: Self_Employed, dtype: int64 \n",
      "\n",
      "Semiurban    233\n",
      "Urban        202\n",
      "Rural        179\n",
      "Name: Property_Area, dtype: int64 \n",
      "\n",
      "Y    422\n",
      "N    192\n",
      "Name: Loan_Status, dtype: int64 \n",
      "\n"
     ]
    }
   ],
   "source": [
    "def check_values(x):\n",
    "    for i in x.columns:\n",
    "        print(x[i].value_counts(),\"\\n\")\n",
    "check_values(loan_details_ds.iloc[:,1::].select_dtypes(include =\"object\"))"
   ]
  },
  {
   "cell_type": "code",
   "execution_count": 16,
   "id": "7eb29a98",
   "metadata": {},
   "outputs": [
    {
     "data": {
      "text/plain": [
       "<AxesSubplot:ylabel='Gender,Loan_Status'>"
      ]
     },
     "execution_count": 16,
     "metadata": {},
     "output_type": "execute_result"
    },
    {
     "data": {
      "image/png": "[encoded data removed]",
      "text/plain": [
       "<Figure size 432x288 with 1 Axes>"
      ]
     },
     "metadata": {
      "needs_background": "light"
     },
     "output_type": "display_data"
    }
   ],
   "source": [
    "loan_details_ds.groupby([\"Gender\",\"Loan_Status\"])[\"Loan_Status\"].count().plot(kind = \"barh\")"
   ]
  },
  {
   "cell_type": "markdown",
   "id": "bf120a5d",
   "metadata": {},
   "source": [
    "maximum loan application are made by Male and we see the acceptance and rejection accordingly which is high"
   ]
  },
  {
   "cell_type": "code",
   "execution_count": 17,
   "id": "0ef4a104",
   "metadata": {},
   "outputs": [
    {
     "data": {
      "text/plain": [
       "<AxesSubplot:ylabel='Loan_Status,Gender,Education,Credit_History'>"
      ]
     },
     "execution_count": 17,
     "metadata": {},
     "output_type": "execute_result"
    },
    {
     "data": {
      "image/png": "[encoded data removed]",
      "text/plain": [
       "<Figure size 1080x576 with 1 Axes>"
      ]
     },
     "metadata": {
      "needs_background": "light"
     },
     "output_type": "display_data"
    }
   ],
   "source": [
    "plt.figure(figsize=(15,8))\n",
    "loan_details_ds.groupby([\"Loan_Status\",\"Gender\",\"Education\",\"Credit_History\"])[\"Loan_Status\"].count().plot(kind = \"barh\")"
   ]
  },
  {
   "cell_type": "markdown",
   "id": "b5c72ee3",
   "metadata": {},
   "source": [
    "maximum participation has come from people who are graduate. we can clearly see that graduate people with good credit history have higher loan application.it seems that graduate are earning more."
   ]
  },
  {
   "cell_type": "code",
   "execution_count": 18,
   "id": "2770b28f",
   "metadata": {},
   "outputs": [
    {
     "data": {
      "text/plain": [
       "Education\n",
       "Graduate        5857.433333\n",
       "Not Graduate    3777.283582\n",
       "Name: ApplicantIncome, dtype: float64"
      ]
     },
     "execution_count": 18,
     "metadata": {},
     "output_type": "execute_result"
    }
   ],
   "source": [
    "loan_details_ds.groupby(\"Education\")[\"ApplicantIncome\"].mean()"
   ]
  },
  {
   "cell_type": "code",
   "execution_count": 19,
   "id": "e85df65b",
   "metadata": {},
   "outputs": [
    {
     "data": {
      "text/html": [
       "<div>\n",
       "<style scoped>\n",
       "    .dataframe tbody tr th:only-of-type {\n",
       "        vertical-align: middle;\n",
       "    }\n",
       "\n",
       "    .dataframe tbody tr th {\n",
       "        vertical-align: top;\n",
       "    }\n",
       "\n",
       "    .dataframe thead th {\n",
       "        text-align: right;\n",
       "    }\n",
       "</style>\n",
       "<table border=\"1\" class=\"dataframe\">\n",
       "  <thead>\n",
       "    <tr style=\"text-align: right;\">\n",
       "      <th></th>\n",
       "      <th></th>\n",
       "      <th>ApplicantIncome</th>\n",
       "      <th>CoapplicantIncome</th>\n",
       "      <th>LoanAmount</th>\n",
       "    </tr>\n",
       "    <tr>\n",
       "      <th>Education</th>\n",
       "      <th>Dependents</th>\n",
       "      <th></th>\n",
       "      <th></th>\n",
       "      <th></th>\n",
       "    </tr>\n",
       "  </thead>\n",
       "  <tbody>\n",
       "    <tr>\n",
       "      <th rowspan=\"4\" valign=\"top\">Graduate</th>\n",
       "      <th>0</th>\n",
       "      <td>5200.234266</td>\n",
       "      <td>1696.315105</td>\n",
       "      <td>140.454545</td>\n",
       "    </tr>\n",
       "    <tr>\n",
       "      <th>1</th>\n",
       "      <td>6562.333333</td>\n",
       "      <td>1332.987654</td>\n",
       "      <td>163.024691</td>\n",
       "    </tr>\n",
       "    <tr>\n",
       "      <th>2</th>\n",
       "      <td>5360.597403</td>\n",
       "      <td>1781.516883</td>\n",
       "      <td>159.610390</td>\n",
       "    </tr>\n",
       "    <tr>\n",
       "      <th>3+</th>\n",
       "      <td>10555.166667</td>\n",
       "      <td>2613.694444</td>\n",
       "      <td>219.250000</td>\n",
       "    </tr>\n",
       "    <tr>\n",
       "      <th rowspan=\"4\" valign=\"top\">Not Graduate</th>\n",
       "      <th>0</th>\n",
       "      <td>3879.162162</td>\n",
       "      <td>1232.040541</td>\n",
       "      <td>115.527027</td>\n",
       "    </tr>\n",
       "    <tr>\n",
       "      <th>1</th>\n",
       "      <td>3647.761905</td>\n",
       "      <td>1785.904762</td>\n",
       "      <td>135.809524</td>\n",
       "    </tr>\n",
       "    <tr>\n",
       "      <th>2</th>\n",
       "      <td>3534.958333</td>\n",
       "      <td>1384.791667</td>\n",
       "      <td>117.333333</td>\n",
       "    </tr>\n",
       "    <tr>\n",
       "      <th>3+</th>\n",
       "      <td>3843.733333</td>\n",
       "      <td>609.800000</td>\n",
       "      <td>114.466667</td>\n",
       "    </tr>\n",
       "  </tbody>\n",
       "</table>\n",
       "</div>"
      ],
      "text/plain": [
       "                         ApplicantIncome  CoapplicantIncome  LoanAmount\n",
       "Education    Dependents                                                \n",
       "Graduate     0               5200.234266        1696.315105  140.454545\n",
       "             1               6562.333333        1332.987654  163.024691\n",
       "             2               5360.597403        1781.516883  159.610390\n",
       "             3+             10555.166667        2613.694444  219.250000\n",
       "Not Graduate 0               3879.162162        1232.040541  115.527027\n",
       "             1               3647.761905        1785.904762  135.809524\n",
       "             2               3534.958333        1384.791667  117.333333\n",
       "             3+              3843.733333         609.800000  114.466667"
      ]
     },
     "execution_count": 19,
     "metadata": {},
     "output_type": "execute_result"
    }
   ],
   "source": [
    "loan_details_ds.groupby([\"Education\",\"Dependents\"])[[\"ApplicantIncome\",\"CoapplicantIncome\",\"LoanAmount\"]].mean()"
   ]
  },
  {
   "cell_type": "markdown",
   "id": "fe207fba",
   "metadata": {},
   "source": [
    "it clearly tells that graduate are earning more than not graduate. average income along with dependants in graduate category is high than not graduate.With 3+ dependents loan amount is high under gradate bucket however under non graduate bucket it is 115 and the strange thing is that with 3+ dependents loan amount is equal as no dependance"
   ]
  },
  {
   "cell_type": "code",
   "execution_count": 20,
   "id": "c0bc71e3",
   "metadata": {},
   "outputs": [
    {
     "data": {
      "text/html": [
       "<div>\n",
       "<style scoped>\n",
       "    .dataframe tbody tr th:only-of-type {\n",
       "        vertical-align: middle;\n",
       "    }\n",
       "\n",
       "    .dataframe tbody tr th {\n",
       "        vertical-align: top;\n",
       "    }\n",
       "\n",
       "    .dataframe thead th {\n",
       "        text-align: right;\n",
       "    }\n",
       "</style>\n",
       "<table border=\"1\" class=\"dataframe\">\n",
       "  <thead>\n",
       "    <tr style=\"text-align: right;\">\n",
       "      <th></th>\n",
       "      <th></th>\n",
       "      <th>CoapplicantIncome</th>\n",
       "    </tr>\n",
       "    <tr>\n",
       "      <th>Gender</th>\n",
       "      <th>Dependents</th>\n",
       "      <th></th>\n",
       "    </tr>\n",
       "  </thead>\n",
       "  <tbody>\n",
       "    <tr>\n",
       "      <th rowspan=\"4\" valign=\"top\">Female</th>\n",
       "      <th>0</th>\n",
       "      <td>83</td>\n",
       "    </tr>\n",
       "    <tr>\n",
       "      <th>1</th>\n",
       "      <td>19</td>\n",
       "    </tr>\n",
       "    <tr>\n",
       "      <th>2</th>\n",
       "      <td>7</td>\n",
       "    </tr>\n",
       "    <tr>\n",
       "      <th>3+</th>\n",
       "      <td>3</td>\n",
       "    </tr>\n",
       "    <tr>\n",
       "      <th rowspan=\"4\" valign=\"top\">Male</th>\n",
       "      <th>0</th>\n",
       "      <td>277</td>\n",
       "    </tr>\n",
       "    <tr>\n",
       "      <th>1</th>\n",
       "      <td>83</td>\n",
       "    </tr>\n",
       "    <tr>\n",
       "      <th>2</th>\n",
       "      <td>94</td>\n",
       "    </tr>\n",
       "    <tr>\n",
       "      <th>3+</th>\n",
       "      <td>48</td>\n",
       "    </tr>\n",
       "  </tbody>\n",
       "</table>\n",
       "</div>"
      ],
      "text/plain": [
       "                   CoapplicantIncome\n",
       "Gender Dependents                   \n",
       "Female 0                          83\n",
       "       1                          19\n",
       "       2                           7\n",
       "       3+                          3\n",
       "Male   0                         277\n",
       "       1                          83\n",
       "       2                          94\n",
       "       3+                         48"
      ]
     },
     "execution_count": 20,
     "metadata": {},
     "output_type": "execute_result"
    }
   ],
   "source": [
    "loan_details_ds.groupby([\"Gender\",\"Dependents\"])[[\"CoapplicantIncome\"]].count()"
   ]
  },
  {
   "cell_type": "markdown",
   "id": "5d798bac",
   "metadata": {},
   "source": [
    "89% co applicant are male , we can assume that from a family mainly male member working and adding their income to take loan"
   ]
  },
  {
   "cell_type": "code",
   "execution_count": 21,
   "id": "083b4f3c",
   "metadata": {},
   "outputs": [
    {
     "data": {
      "text/html": [
       "<div>\n",
       "<style scoped>\n",
       "    .dataframe tbody tr th:only-of-type {\n",
       "        vertical-align: middle;\n",
       "    }\n",
       "\n",
       "    .dataframe tbody tr th {\n",
       "        vertical-align: top;\n",
       "    }\n",
       "\n",
       "    .dataframe thead th {\n",
       "        text-align: right;\n",
       "    }\n",
       "</style>\n",
       "<table border=\"1\" class=\"dataframe\">\n",
       "  <thead>\n",
       "    <tr style=\"text-align: right;\">\n",
       "      <th></th>\n",
       "      <th></th>\n",
       "      <th>ApplicantIncome</th>\n",
       "      <th>CoapplicantIncome</th>\n",
       "    </tr>\n",
       "    <tr>\n",
       "      <th>Married</th>\n",
       "      <th>Gender</th>\n",
       "      <th></th>\n",
       "      <th></th>\n",
       "    </tr>\n",
       "  </thead>\n",
       "  <tbody>\n",
       "    <tr>\n",
       "      <th rowspan=\"2\" valign=\"top\">No</th>\n",
       "      <th>Female</th>\n",
       "      <td>4503.787500</td>\n",
       "      <td>1020.012500</td>\n",
       "    </tr>\n",
       "    <tr>\n",
       "      <th>Male</th>\n",
       "      <td>5251.045113</td>\n",
       "      <td>1494.932331</td>\n",
       "    </tr>\n",
       "    <tr>\n",
       "      <th rowspan=\"2\" valign=\"top\">Yes</th>\n",
       "      <th>Female</th>\n",
       "      <td>4992.687500</td>\n",
       "      <td>1328.000000</td>\n",
       "    </tr>\n",
       "    <tr>\n",
       "      <th>Male</th>\n",
       "      <td>5689.067751</td>\n",
       "      <td>1822.552629</td>\n",
       "    </tr>\n",
       "  </tbody>\n",
       "</table>\n",
       "</div>"
      ],
      "text/plain": [
       "                ApplicantIncome  CoapplicantIncome\n",
       "Married Gender                                    \n",
       "No      Female      4503.787500        1020.012500\n",
       "        Male        5251.045113        1494.932331\n",
       "Yes     Female      4992.687500        1328.000000\n",
       "        Male        5689.067751        1822.552629"
      ]
     },
     "execution_count": 21,
     "metadata": {},
     "output_type": "execute_result"
    }
   ],
   "source": [
    "loan_details_ds.groupby([\"Married\",\"Gender\"])[[\"ApplicantIncome\",\"CoapplicantIncome\"]].mean()"
   ]
  },
  {
   "cell_type": "code",
   "execution_count": 22,
   "id": "e11302f1",
   "metadata": {},
   "outputs": [
    {
     "data": {
      "text/html": [
       "<div>\n",
       "<style scoped>\n",
       "    .dataframe tbody tr th:only-of-type {\n",
       "        vertical-align: middle;\n",
       "    }\n",
       "\n",
       "    .dataframe tbody tr th {\n",
       "        vertical-align: top;\n",
       "    }\n",
       "\n",
       "    .dataframe thead tr th {\n",
       "        text-align: left;\n",
       "    }\n",
       "\n",
       "    .dataframe thead tr:last-of-type th {\n",
       "        text-align: right;\n",
       "    }\n",
       "</style>\n",
       "<table border=\"1\" class=\"dataframe\">\n",
       "  <thead>\n",
       "    <tr>\n",
       "      <th></th>\n",
       "      <th colspan=\"2\" halign=\"left\">ApplicantIncome</th>\n",
       "    </tr>\n",
       "    <tr>\n",
       "      <th>Married</th>\n",
       "      <th>No</th>\n",
       "      <th>Yes</th>\n",
       "    </tr>\n",
       "    <tr>\n",
       "      <th>Gender</th>\n",
       "      <th></th>\n",
       "      <th></th>\n",
       "    </tr>\n",
       "  </thead>\n",
       "  <tbody>\n",
       "    <tr>\n",
       "      <th>Female</th>\n",
       "      <td>4503.787500</td>\n",
       "      <td>4992.687500</td>\n",
       "    </tr>\n",
       "    <tr>\n",
       "      <th>Male</th>\n",
       "      <td>5251.045113</td>\n",
       "      <td>5689.067751</td>\n",
       "    </tr>\n",
       "  </tbody>\n",
       "</table>\n",
       "</div>"
      ],
      "text/plain": [
       "        ApplicantIncome             \n",
       "Married              No          Yes\n",
       "Gender                              \n",
       "Female      4503.787500  4992.687500\n",
       "Male        5251.045113  5689.067751"
      ]
     },
     "execution_count": 22,
     "metadata": {},
     "output_type": "execute_result"
    }
   ],
   "source": [
    "pd.pivot_table(loan_details_ds, values = [\"ApplicantIncome\"], index = \"Gender\", aggfunc = \"mean\", columns = \"Married\")"
   ]
  },
  {
   "cell_type": "markdown",
   "id": "ada9fe37",
   "metadata": {},
   "source": [
    "if people are married their income is high, we can see it from the above table"
   ]
  },
  {
   "cell_type": "code",
   "execution_count": 23,
   "id": "cee0e46c",
   "metadata": {},
   "outputs": [
    {
     "data": {
      "text/html": [
       "<div>\n",
       "<style scoped>\n",
       "    .dataframe tbody tr th:only-of-type {\n",
       "        vertical-align: middle;\n",
       "    }\n",
       "\n",
       "    .dataframe tbody tr th {\n",
       "        vertical-align: top;\n",
       "    }\n",
       "\n",
       "    .dataframe thead th {\n",
       "        text-align: right;\n",
       "    }\n",
       "</style>\n",
       "<table border=\"1\" class=\"dataframe\">\n",
       "  <thead>\n",
       "    <tr style=\"text-align: right;\">\n",
       "      <th></th>\n",
       "      <th></th>\n",
       "      <th>ApplicantIncome</th>\n",
       "      <th>LoanAmount</th>\n",
       "    </tr>\n",
       "    <tr>\n",
       "      <th>Self_Employed</th>\n",
       "      <th>Gender</th>\n",
       "      <th></th>\n",
       "      <th></th>\n",
       "    </tr>\n",
       "  </thead>\n",
       "  <tbody>\n",
       "    <tr>\n",
       "      <th rowspan=\"2\" valign=\"top\">No</th>\n",
       "      <th>Female</th>\n",
       "      <td>3966.257732</td>\n",
       "      <td>120.402062</td>\n",
       "    </tr>\n",
       "    <tr>\n",
       "      <th>Male</th>\n",
       "      <td>5351.195402</td>\n",
       "      <td>146.760920</td>\n",
       "    </tr>\n",
       "    <tr>\n",
       "      <th rowspan=\"2\" valign=\"top\">Yes</th>\n",
       "      <th>Female</th>\n",
       "      <td>9022.800000</td>\n",
       "      <td>167.666667</td>\n",
       "    </tr>\n",
       "    <tr>\n",
       "      <th>Male</th>\n",
       "      <td>7013.208955</td>\n",
       "      <td>171.000000</td>\n",
       "    </tr>\n",
       "  </tbody>\n",
       "</table>\n",
       "</div>"
      ],
      "text/plain": [
       "                      ApplicantIncome  LoanAmount\n",
       "Self_Employed Gender                             \n",
       "No            Female      3966.257732  120.402062\n",
       "              Male        5351.195402  146.760920\n",
       "Yes           Female      9022.800000  167.666667\n",
       "              Male        7013.208955  171.000000"
      ]
     },
     "execution_count": 23,
     "metadata": {},
     "output_type": "execute_result"
    }
   ],
   "source": [
    "loan_details_ds.groupby([\"Self_Employed\",\"Gender\"])[[\"ApplicantIncome\", \"LoanAmount\"]].mean()"
   ]
  },
  {
   "cell_type": "markdown",
   "id": "e0be8c1c",
   "metadata": {},
   "source": [
    "self_employed female are earning more than male, it seems they are good enterprenure but average loan amount is high for male."
   ]
  },
  {
   "cell_type": "code",
   "execution_count": 24,
   "id": "551e937b",
   "metadata": {},
   "outputs": [
    {
     "data": {
      "text/html": [
       "<div>\n",
       "<style scoped>\n",
       "    .dataframe tbody tr th:only-of-type {\n",
       "        vertical-align: middle;\n",
       "    }\n",
       "\n",
       "    .dataframe tbody tr th {\n",
       "        vertical-align: top;\n",
       "    }\n",
       "\n",
       "    .dataframe thead th {\n",
       "        text-align: right;\n",
       "    }\n",
       "</style>\n",
       "<table border=\"1\" class=\"dataframe\">\n",
       "  <thead>\n",
       "    <tr style=\"text-align: right;\">\n",
       "      <th></th>\n",
       "      <th></th>\n",
       "      <th>ApplicantIncome</th>\n",
       "      <th>CoapplicantIncome</th>\n",
       "      <th>LoanAmount</th>\n",
       "      <th>Loan_Amount_Term</th>\n",
       "    </tr>\n",
       "    <tr>\n",
       "      <th>Self_Employed</th>\n",
       "      <th>Married</th>\n",
       "      <th></th>\n",
       "      <th></th>\n",
       "      <th></th>\n",
       "      <th></th>\n",
       "    </tr>\n",
       "  </thead>\n",
       "  <tbody>\n",
       "    <tr>\n",
       "      <th rowspan=\"2\" valign=\"top\">No</th>\n",
       "      <th>No</th>\n",
       "      <td>4509.459459</td>\n",
       "      <td>1449.956757</td>\n",
       "      <td>124.270270</td>\n",
       "      <td>351.632432</td>\n",
       "    </tr>\n",
       "    <tr>\n",
       "      <th>Yes</th>\n",
       "      <td>5412.815562</td>\n",
       "      <td>1740.901787</td>\n",
       "      <td>151.383285</td>\n",
       "      <td>338.801153</td>\n",
       "    </tr>\n",
       "    <tr>\n",
       "      <th rowspan=\"2\" valign=\"top\">Yes</th>\n",
       "      <th>No</th>\n",
       "      <td>8015.785714</td>\n",
       "      <td>435.178571</td>\n",
       "      <td>159.142857</td>\n",
       "      <td>349.285714</td>\n",
       "    </tr>\n",
       "    <tr>\n",
       "      <th>Yes</th>\n",
       "      <td>7051.574074</td>\n",
       "      <td>2054.166667</td>\n",
       "      <td>176.222222</td>\n",
       "      <td>330.444444</td>\n",
       "    </tr>\n",
       "  </tbody>\n",
       "</table>\n",
       "</div>"
      ],
      "text/plain": [
       "                       ApplicantIncome  CoapplicantIncome  LoanAmount  \\\n",
       "Self_Employed Married                                                   \n",
       "No            No           4509.459459        1449.956757  124.270270   \n",
       "              Yes          5412.815562        1740.901787  151.383285   \n",
       "Yes           No           8015.785714         435.178571  159.142857   \n",
       "              Yes          7051.574074        2054.166667  176.222222   \n",
       "\n",
       "                       Loan_Amount_Term  \n",
       "Self_Employed Married                    \n",
       "No            No             351.632432  \n",
       "              Yes            338.801153  \n",
       "Yes           No             349.285714  \n",
       "              Yes            330.444444  "
      ]
     },
     "execution_count": 24,
     "metadata": {},
     "output_type": "execute_result"
    }
   ],
   "source": [
    "loan_details_ds.groupby([\"Self_Employed\",\"Married\"])[[\"ApplicantIncome\",\"CoapplicantIncome\", \"LoanAmount\",\"Loan_Amount_Term\"]].mean()"
   ]
  },
  {
   "cell_type": "code",
   "execution_count": 25,
   "id": "28d26e89",
   "metadata": {},
   "outputs": [
    {
     "data": {
      "text/html": [
       "<div>\n",
       "<style scoped>\n",
       "    .dataframe tbody tr th:only-of-type {\n",
       "        vertical-align: middle;\n",
       "    }\n",
       "\n",
       "    .dataframe tbody tr th {\n",
       "        vertical-align: top;\n",
       "    }\n",
       "\n",
       "    .dataframe thead th {\n",
       "        text-align: right;\n",
       "    }\n",
       "</style>\n",
       "<table border=\"1\" class=\"dataframe\">\n",
       "  <thead>\n",
       "    <tr style=\"text-align: right;\">\n",
       "      <th></th>\n",
       "      <th>ApplicantIncome</th>\n",
       "      <th>LoanAmount</th>\n",
       "    </tr>\n",
       "    <tr>\n",
       "      <th>Property_Area</th>\n",
       "      <th></th>\n",
       "      <th></th>\n",
       "    </tr>\n",
       "  </thead>\n",
       "  <tbody>\n",
       "    <tr>\n",
       "      <th>Rural</th>\n",
       "      <td>5554.083799</td>\n",
       "      <td>151.446927</td>\n",
       "    </tr>\n",
       "    <tr>\n",
       "      <th>Semiurban</th>\n",
       "      <td>5292.261803</td>\n",
       "      <td>145.128755</td>\n",
       "    </tr>\n",
       "    <tr>\n",
       "      <th>Urban</th>\n",
       "      <td>5398.247525</td>\n",
       "      <td>141.425743</td>\n",
       "    </tr>\n",
       "  </tbody>\n",
       "</table>\n",
       "</div>"
      ],
      "text/plain": [
       "               ApplicantIncome  LoanAmount\n",
       "Property_Area                             \n",
       "Rural              5554.083799  151.446927\n",
       "Semiurban          5292.261803  145.128755\n",
       "Urban              5398.247525  141.425743"
      ]
     },
     "execution_count": 25,
     "metadata": {},
     "output_type": "execute_result"
    }
   ],
   "source": [
    "\n",
    "loan_details_ds.groupby(\"Property_Area\")[[\"ApplicantIncome\", \"LoanAmount\"]].mean()"
   ]
  },
  {
   "cell_type": "markdown",
   "id": "86c77b1e",
   "metadata": {},
   "source": [
    "self employed and but no Married are earning more than self employed and married, self_employed and married earning less than self_employed but no Married have taken more loan by adding co applicant and average repayment duartion is 27.5 years"
   ]
  },
  {
   "cell_type": "code",
   "execution_count": 26,
   "id": "7f7b735d",
   "metadata": {},
   "outputs": [
    {
     "data": {
      "text/plain": [
       "Index(['ApplicantIncome', 'CoapplicantIncome', 'LoanAmount',\n",
       "       'Loan_Amount_Term', 'Credit_History'],\n",
       "      dtype='object')"
      ]
     },
     "execution_count": 26,
     "metadata": {},
     "output_type": "execute_result"
    }
   ],
   "source": [
    "num_col = loan_details_ds.select_dtypes(exclude = \"object\")\n",
    "num_col.columns"
   ]
  },
  {
   "cell_type": "code",
   "execution_count": 27,
   "id": "e851c2a8",
   "metadata": {},
   "outputs": [],
   "source": [
    "def numeric_col_graph(x,variable):\n",
    "    plt.figure(figsize=(15,5))\n",
    "    plt.subplot(121)\n",
    "    sns.distplot(x[variable])\n",
    "    \n",
    "    plt.subplot(122)\n",
    "    sns.boxplot(x[variable])\n",
    "    plt.show();\n",
    "def outlier_treatment(x,variable):\n",
    "    Q1 = x[variable].quantile(.25)\n",
    "    Q3 = x[variable].quantile(.75)\n",
    "    \n",
    "    IQR = Q3-Q1\n",
    "    lower_bound = Q1-(1.5*IQR)\n",
    "    upper_bound = Q3+(1.5*IQR)\n",
    "    x[variable] = np.where(x[variable]> upper_bound,upper_bound , np.where(x[variable] < lower_bound,lower_bound, x[variable]))"
   ]
  },
  {
   "cell_type": "code",
   "execution_count": 28,
   "id": "34b8f45c",
   "metadata": {},
   "outputs": [
    {
     "data": {
      "image/png": "[encoded data removed]",
      "text/plain": [
       "<Figure size 1080x360 with 2 Axes>"
      ]
     },
     "metadata": {
      "needs_background": "light"
     },
     "output_type": "display_data"
    }
   ],
   "source": [
    "\n",
    "numeric_col_graph(loan_details_ds,\"ApplicantIncome\")"
   ]
  },
  {
   "cell_type": "markdown",
   "id": "20b6618f",
   "metadata": {},
   "source": [
    "Applicant income in right skewed and have lot of extreme values.will cap them with IQR methoed because we less data point and dropping them we will lose information"
   ]
  },
  {
   "cell_type": "code",
   "execution_count": 29,
   "id": "dc4d62f7",
   "metadata": {},
   "outputs": [
    {
     "data": {
      "image/png": "[encoded data removed]",
      "text/plain": [
       "<Figure size 1080x360 with 2 Axes>"
      ]
     },
     "metadata": {
      "needs_background": "light"
     },
     "output_type": "display_data"
    }
   ],
   "source": [
    "outlier_treatment(loan_details_ds,\"ApplicantIncome\")\n",
    "numeric_col_graph(loan_details_ds,\"ApplicantIncome\")"
   ]
  },
  {
   "cell_type": "markdown",
   "id": "25775d6a",
   "metadata": {},
   "source": [
    "\n",
    "now it looks better and close to normal distribution and we have not outlier in this column."
   ]
  },
  {
   "cell_type": "code",
   "execution_count": 30,
   "id": "fb6b0740",
   "metadata": {},
   "outputs": [
    {
     "data": {
      "image/png": "[encoded data removed]",
      "text/plain": [
       "<Figure size 1080x360 with 2 Axes>"
      ]
     },
     "metadata": {
      "needs_background": "light"
     },
     "output_type": "display_data"
    }
   ],
   "source": [
    "numeric_col_graph(loan_details_ds,\"CoapplicantIncome\")"
   ]
  },
  {
   "cell_type": "markdown",
   "id": "f2b3cabb",
   "metadata": {},
   "source": [
    "in Coapplicant we observe that data is right skewed and outlier also present"
   ]
  },
  {
   "cell_type": "code",
   "execution_count": 31,
   "id": "08460f5d",
   "metadata": {},
   "outputs": [
    {
     "data": {
      "image/png": "[encoded data removed]",
      "text/plain": [
       "<Figure size 1080x360 with 2 Axes>"
      ]
     },
     "metadata": {
      "needs_background": "light"
     },
     "output_type": "display_data"
    }
   ],
   "source": [
    "outlier_treatment(loan_details_ds,\"CoapplicantIncome\")\n",
    "numeric_col_graph(loan_details_ds,\"CoapplicantIncome\")"
   ]
  },
  {
   "cell_type": "markdown",
   "id": "92bbf9e0",
   "metadata": {},
   "source": [
    "All the extreme values have been capped with upper limit but we see high variability in the dataset range"
   ]
  },
  {
   "cell_type": "code",
   "execution_count": 32,
   "id": "9018affa",
   "metadata": {},
   "outputs": [
    {
     "data": {
      "image/png": "[encoded data removed]",
      "text/plain": [
       "<Figure size 1080x360 with 2 Axes>"
      ]
     },
     "metadata": {
      "needs_background": "light"
     },
     "output_type": "display_data"
    }
   ],
   "source": [
    "numeric_col_graph(loan_details_ds,\"LoanAmount\")"
   ]
  },
  {
   "cell_type": "markdown",
   "id": "a3579786",
   "metadata": {},
   "source": [
    "We see that loan amount is high is some of the cases which are resulted in outlier."
   ]
  },
  {
   "cell_type": "code",
   "execution_count": 34,
   "id": "655ef1e9",
   "metadata": {},
   "outputs": [
    {
     "data": {
      "image/png": "[encoded data removed]",
      "text/plain": [
       "<Figure size 1080x360 with 2 Axes>"
      ]
     },
     "metadata": {
      "needs_background": "light"
     },
     "output_type": "display_data"
    }
   ],
   "source": [
    "outlier_treatment(loan_details_ds,\"LoanAmount\")\n",
    "numeric_col_graph(loan_details_ds,\"LoanAmount\")"
   ]
  },
  {
   "cell_type": "markdown",
   "id": "b631ff1a",
   "metadata": {},
   "source": [
    "Now it has come closure to normal distribution and no extreme values,Numeric columns'outliers have been handled with IQR method, we see that these are now more close to normal distribution,"
   ]
  },
  {
   "cell_type": "code",
   "execution_count": 36,
   "id": "c5280fda",
   "metadata": {},
   "outputs": [
    {
     "data": {
      "text/html": [
       "<div>\n",
       "<style scoped>\n",
       "    .dataframe tbody tr th:only-of-type {\n",
       "        vertical-align: middle;\n",
       "    }\n",
       "\n",
       "    .dataframe tbody tr th {\n",
       "        vertical-align: top;\n",
       "    }\n",
       "\n",
       "    .dataframe thead th {\n",
       "        text-align: right;\n",
       "    }\n",
       "</style>\n",
       "<table border=\"1\" class=\"dataframe\">\n",
       "  <thead>\n",
       "    <tr style=\"text-align: right;\">\n",
       "      <th></th>\n",
       "      <th>Loan_ID</th>\n",
       "      <th>Gender</th>\n",
       "      <th>Married</th>\n",
       "      <th>Dependents</th>\n",
       "      <th>Education</th>\n",
       "      <th>Self_Employed</th>\n",
       "      <th>ApplicantIncome</th>\n",
       "      <th>CoapplicantIncome</th>\n",
       "      <th>LoanAmount</th>\n",
       "      <th>Loan_Amount_Term</th>\n",
       "      <th>Credit_History</th>\n",
       "      <th>Property_Area</th>\n",
       "      <th>Loan_Status</th>\n",
       "    </tr>\n",
       "  </thead>\n",
       "  <tbody>\n",
       "    <tr>\n",
       "      <th>0</th>\n",
       "      <td>LP001002</td>\n",
       "      <td>Male</td>\n",
       "      <td>No</td>\n",
       "      <td>0</td>\n",
       "      <td>Graduate</td>\n",
       "      <td>No</td>\n",
       "      <td>5849.0</td>\n",
       "      <td>0.0</td>\n",
       "      <td>128.0</td>\n",
       "      <td>360.0</td>\n",
       "      <td>1.0</td>\n",
       "      <td>Urban</td>\n",
       "      <td>Y</td>\n",
       "    </tr>\n",
       "    <tr>\n",
       "      <th>1</th>\n",
       "      <td>LP001003</td>\n",
       "      <td>Male</td>\n",
       "      <td>Yes</td>\n",
       "      <td>1</td>\n",
       "      <td>Graduate</td>\n",
       "      <td>No</td>\n",
       "      <td>4583.0</td>\n",
       "      <td>1508.0</td>\n",
       "      <td>128.0</td>\n",
       "      <td>360.0</td>\n",
       "      <td>1.0</td>\n",
       "      <td>Rural</td>\n",
       "      <td>N</td>\n",
       "    </tr>\n",
       "    <tr>\n",
       "      <th>2</th>\n",
       "      <td>LP001005</td>\n",
       "      <td>Male</td>\n",
       "      <td>Yes</td>\n",
       "      <td>0</td>\n",
       "      <td>Graduate</td>\n",
       "      <td>Yes</td>\n",
       "      <td>3000.0</td>\n",
       "      <td>0.0</td>\n",
       "      <td>66.0</td>\n",
       "      <td>360.0</td>\n",
       "      <td>1.0</td>\n",
       "      <td>Urban</td>\n",
       "      <td>Y</td>\n",
       "    </tr>\n",
       "    <tr>\n",
       "      <th>3</th>\n",
       "      <td>LP001006</td>\n",
       "      <td>Male</td>\n",
       "      <td>Yes</td>\n",
       "      <td>0</td>\n",
       "      <td>Not Graduate</td>\n",
       "      <td>No</td>\n",
       "      <td>2583.0</td>\n",
       "      <td>2358.0</td>\n",
       "      <td>120.0</td>\n",
       "      <td>360.0</td>\n",
       "      <td>1.0</td>\n",
       "      <td>Urban</td>\n",
       "      <td>Y</td>\n",
       "    </tr>\n",
       "    <tr>\n",
       "      <th>4</th>\n",
       "      <td>LP001008</td>\n",
       "      <td>Male</td>\n",
       "      <td>No</td>\n",
       "      <td>0</td>\n",
       "      <td>Graduate</td>\n",
       "      <td>No</td>\n",
       "      <td>6000.0</td>\n",
       "      <td>0.0</td>\n",
       "      <td>141.0</td>\n",
       "      <td>360.0</td>\n",
       "      <td>1.0</td>\n",
       "      <td>Urban</td>\n",
       "      <td>Y</td>\n",
       "    </tr>\n",
       "  </tbody>\n",
       "</table>\n",
       "</div>"
      ],
      "text/plain": [
       "    Loan_ID Gender Married Dependents     Education Self_Employed  \\\n",
       "0  LP001002   Male      No          0      Graduate            No   \n",
       "1  LP001003   Male     Yes          1      Graduate            No   \n",
       "2  LP001005   Male     Yes          0      Graduate           Yes   \n",
       "3  LP001006   Male     Yes          0  Not Graduate            No   \n",
       "4  LP001008   Male      No          0      Graduate            No   \n",
       "\n",
       "   ApplicantIncome  CoapplicantIncome  LoanAmount  Loan_Amount_Term  \\\n",
       "0           5849.0                0.0       128.0             360.0   \n",
       "1           4583.0             1508.0       128.0             360.0   \n",
       "2           3000.0                0.0        66.0             360.0   \n",
       "3           2583.0             2358.0       120.0             360.0   \n",
       "4           6000.0                0.0       141.0             360.0   \n",
       "\n",
       "   Credit_History Property_Area Loan_Status  \n",
       "0             1.0         Urban           Y  \n",
       "1             1.0         Rural           N  \n",
       "2             1.0         Urban           Y  \n",
       "3             1.0         Urban           Y  \n",
       "4             1.0         Urban           Y  "
      ]
     },
     "execution_count": 36,
     "metadata": {},
     "output_type": "execute_result"
    }
   ],
   "source": [
    "loan_details_ds.head()"
   ]
  },
  {
   "cell_type": "code",
   "execution_count": 37,
   "id": "cb3913ff",
   "metadata": {},
   "outputs": [
    {
     "data": {
      "text/plain": [
       "ApplicantIncome      1.039846\n",
       "CoapplicantIncome    1.012763\n",
       "LoanAmount           0.683693\n",
       "Loan_Amount_Term    -2.402112\n",
       "Credit_History      -1.798506\n",
       "dtype: float64"
      ]
     },
     "execution_count": 37,
     "metadata": {},
     "output_type": "execute_result"
    }
   ],
   "source": [
    "loan_details_ds.select_dtypes(exclude = \"object\").skew()"
   ]
  },
  {
   "cell_type": "code",
   "execution_count": 38,
   "id": "d678bd9e",
   "metadata": {},
   "outputs": [
    {
     "data": {
      "text/plain": [
       "ApplicantIncome      0.540741\n",
       "CoapplicantIncome    0.192830\n",
       "LoanAmount           0.064140\n",
       "Loan_Amount_Term    -2.402112\n",
       "Credit_History      -1.798506\n",
       "dtype: float64"
      ]
     },
     "execution_count": 38,
     "metadata": {},
     "output_type": "execute_result"
    }
   ],
   "source": [
    "# Correcitng the  skewness from the dataset\n",
    "loan_details_ds[\"ApplicantIncome\"] = np.sqrt(loan_details_ds[\"ApplicantIncome\"])\n",
    "loan_details_ds[\"CoapplicantIncome\"] = np.sqrt(loan_details_ds[\"CoapplicantIncome\"]) \n",
    "loan_details_ds[\"LoanAmount\"] = np.sqrt(loan_details_ds[\"LoanAmount\"])\n",
    "loan_details_ds.select_dtypes(exclude = \"object\").skew()"
   ]
  },
  {
   "cell_type": "markdown",
   "id": "ac254ff7",
   "metadata": {},
   "source": [
    "# Label Encoding"
   ]
  },
  {
   "cell_type": "code",
   "execution_count": 39,
   "id": "7f9d25f6",
   "metadata": {},
   "outputs": [],
   "source": [
    "from sklearn.preprocessing import LabelEncoder\n",
    "le = LabelEncoder()\n",
    "\n",
    "loan_details_ds[\"Gender\"] = le.fit_transform(loan_details_ds[\"Gender\"])\n",
    "loan_details_ds[\"Married\"] = le.fit_transform(loan_details_ds[\"Married\"])\n",
    "loan_details_ds[\"Education\"] = le.fit_transform(loan_details_ds[\"Education\"])\n",
    "loan_details_ds[\"Property_Area\"] = le.fit_transform(loan_details_ds[\"Property_Area\"])\n",
    "loan_details_ds[\"Self_Employed\"] = le.fit_transform(loan_details_ds[\"Self_Employed\"])\n",
    "\n",
    "# we have replace Y wtih 1 and N with 0\n",
    "\n",
    "loan_details_ds[\"Loan_Status\"].replace({\"Y\":1,\"N\":0}, inplace = True) "
   ]
  },
  {
   "cell_type": "code",
   "execution_count": 40,
   "id": "b324b28f",
   "metadata": {},
   "outputs": [
    {
     "data": {
      "text/html": [
       "<div>\n",
       "<style scoped>\n",
       "    .dataframe tbody tr th:only-of-type {\n",
       "        vertical-align: middle;\n",
       "    }\n",
       "\n",
       "    .dataframe tbody tr th {\n",
       "        vertical-align: top;\n",
       "    }\n",
       "\n",
       "    .dataframe thead th {\n",
       "        text-align: right;\n",
       "    }\n",
       "</style>\n",
       "<table border=\"1\" class=\"dataframe\">\n",
       "  <thead>\n",
       "    <tr style=\"text-align: right;\">\n",
       "      <th></th>\n",
       "      <th>Loan_ID</th>\n",
       "      <th>Gender</th>\n",
       "      <th>Married</th>\n",
       "      <th>Dependents</th>\n",
       "      <th>Education</th>\n",
       "      <th>Self_Employed</th>\n",
       "      <th>ApplicantIncome</th>\n",
       "      <th>CoapplicantIncome</th>\n",
       "      <th>LoanAmount</th>\n",
       "      <th>Loan_Amount_Term</th>\n",
       "      <th>Credit_History</th>\n",
       "      <th>Property_Area</th>\n",
       "      <th>Loan_Status</th>\n",
       "    </tr>\n",
       "  </thead>\n",
       "  <tbody>\n",
       "    <tr>\n",
       "      <th>0</th>\n",
       "      <td>LP001002</td>\n",
       "      <td>1</td>\n",
       "      <td>0</td>\n",
       "      <td>0</td>\n",
       "      <td>0</td>\n",
       "      <td>0</td>\n",
       "      <td>76.478755</td>\n",
       "      <td>0.000000</td>\n",
       "      <td>11.313708</td>\n",
       "      <td>360.0</td>\n",
       "      <td>1.0</td>\n",
       "      <td>2</td>\n",
       "      <td>1</td>\n",
       "    </tr>\n",
       "    <tr>\n",
       "      <th>1</th>\n",
       "      <td>LP001003</td>\n",
       "      <td>1</td>\n",
       "      <td>1</td>\n",
       "      <td>1</td>\n",
       "      <td>0</td>\n",
       "      <td>0</td>\n",
       "      <td>67.697858</td>\n",
       "      <td>38.832976</td>\n",
       "      <td>11.313708</td>\n",
       "      <td>360.0</td>\n",
       "      <td>1.0</td>\n",
       "      <td>0</td>\n",
       "      <td>0</td>\n",
       "    </tr>\n",
       "    <tr>\n",
       "      <th>2</th>\n",
       "      <td>LP001005</td>\n",
       "      <td>1</td>\n",
       "      <td>1</td>\n",
       "      <td>0</td>\n",
       "      <td>0</td>\n",
       "      <td>1</td>\n",
       "      <td>54.772256</td>\n",
       "      <td>0.000000</td>\n",
       "      <td>8.124038</td>\n",
       "      <td>360.0</td>\n",
       "      <td>1.0</td>\n",
       "      <td>2</td>\n",
       "      <td>1</td>\n",
       "    </tr>\n",
       "    <tr>\n",
       "      <th>3</th>\n",
       "      <td>LP001006</td>\n",
       "      <td>1</td>\n",
       "      <td>1</td>\n",
       "      <td>0</td>\n",
       "      <td>1</td>\n",
       "      <td>0</td>\n",
       "      <td>50.823223</td>\n",
       "      <td>48.559242</td>\n",
       "      <td>10.954451</td>\n",
       "      <td>360.0</td>\n",
       "      <td>1.0</td>\n",
       "      <td>2</td>\n",
       "      <td>1</td>\n",
       "    </tr>\n",
       "    <tr>\n",
       "      <th>4</th>\n",
       "      <td>LP001008</td>\n",
       "      <td>1</td>\n",
       "      <td>0</td>\n",
       "      <td>0</td>\n",
       "      <td>0</td>\n",
       "      <td>0</td>\n",
       "      <td>77.459667</td>\n",
       "      <td>0.000000</td>\n",
       "      <td>11.874342</td>\n",
       "      <td>360.0</td>\n",
       "      <td>1.0</td>\n",
       "      <td>2</td>\n",
       "      <td>1</td>\n",
       "    </tr>\n",
       "  </tbody>\n",
       "</table>\n",
       "</div>"
      ],
      "text/plain": [
       "    Loan_ID  Gender  Married Dependents  Education  Self_Employed  \\\n",
       "0  LP001002       1        0          0          0              0   \n",
       "1  LP001003       1        1          1          0              0   \n",
       "2  LP001005       1        1          0          0              1   \n",
       "3  LP001006       1        1          0          1              0   \n",
       "4  LP001008       1        0          0          0              0   \n",
       "\n",
       "   ApplicantIncome  CoapplicantIncome  LoanAmount  Loan_Amount_Term  \\\n",
       "0        76.478755           0.000000   11.313708             360.0   \n",
       "1        67.697858          38.832976   11.313708             360.0   \n",
       "2        54.772256           0.000000    8.124038             360.0   \n",
       "3        50.823223          48.559242   10.954451             360.0   \n",
       "4        77.459667           0.000000   11.874342             360.0   \n",
       "\n",
       "   Credit_History  Property_Area  Loan_Status  \n",
       "0             1.0              2            1  \n",
       "1             1.0              0            0  \n",
       "2             1.0              2            1  \n",
       "3             1.0              2            1  \n",
       "4             1.0              2            1  "
      ]
     },
     "execution_count": 40,
     "metadata": {},
     "output_type": "execute_result"
    }
   ],
   "source": [
    "loan_details_ds.head()"
   ]
  },
  {
   "cell_type": "code",
   "execution_count": 41,
   "id": "83be43a2",
   "metadata": {},
   "outputs": [],
   "source": [
    "loan_details_ds[\"Dependents\"] = loan_details_ds[\"Dependents\"].map(lambda x:x.rstrip(\"+\")) # removing + sign from dependant column"
   ]
  },
  {
   "cell_type": "markdown",
   "id": "d8ebf817",
   "metadata": {},
   "source": [
    "Deleting Loan_ID because it is not adding any value to target columns"
   ]
  },
  {
   "cell_type": "code",
   "execution_count": 42,
   "id": "d740e371",
   "metadata": {},
   "outputs": [],
   "source": [
    "loan_details_ds.drop(\"Loan_ID\",axis =1,inplace = True)"
   ]
  },
  {
   "cell_type": "markdown",
   "id": "4617abef",
   "metadata": {},
   "source": [
    "# Correaltion plot"
   ]
  },
  {
   "cell_type": "code",
   "execution_count": 43,
   "id": "b187f00d",
   "metadata": {},
   "outputs": [
    {
     "data": {
      "text/plain": [
       "<AxesSubplot:>"
      ]
     },
     "execution_count": 43,
     "metadata": {},
     "output_type": "execute_result"
    },
    {
     "data": {
      "image/png": "[encoded data removed]",
      "text/plain": [
       "<Figure size 1080x432 with 2 Axes>"
      ]
     },
     "metadata": {
      "needs_background": "light"
     },
     "output_type": "display_data"
    }
   ],
   "source": [
    "plt.figure(figsize=(15,6))\n",
    "sns.heatmap(loan_details_ds.corr(),annot= True)"
   ]
  },
  {
   "cell_type": "markdown",
   "id": "8da9227f",
   "metadata": {},
   "source": [
    "looking at the correlation plot, only Credit_History is the only feature which is adding value to target variable"
   ]
  },
  {
   "cell_type": "code",
   "execution_count": 45,
   "id": "f786d6b5",
   "metadata": {},
   "outputs": [],
   "source": [
    "X = loan_details_ds.drop(\"Loan_Status\",axis = 1)\n",
    "y = loan_details_ds[\"Loan_Status\"]\n",
    "from imblearn.combine import SMOTETomek\n",
    "smote = SMOTETomek()\n",
    "resam_X, resam_y = smote.fit_resample(X,y)"
   ]
  },
  {
   "cell_type": "markdown",
   "id": "231b27cb",
   "metadata": {},
   "source": [
    "# Creating Model"
   ]
  },
  {
   "cell_type": "code",
   "execution_count": 46,
   "id": "63c69e90",
   "metadata": {},
   "outputs": [
    {
     "name": "stdout",
     "output_type": "stream",
     "text": [
      "Accuracy_score 0.8564356435643564 random_state 40\n",
      "Confusion_matrix \n",
      " [[75 22]\n",
      " [ 7 98]]\n",
      "classification_report \n",
      "               precision    recall  f1-score   support\n",
      "\n",
      "           0       0.91      0.77      0.84        97\n",
      "           1       0.82      0.93      0.87       105\n",
      "\n",
      "    accuracy                           0.86       202\n",
      "   macro avg       0.87      0.85      0.85       202\n",
      "weighted avg       0.86      0.86      0.86       202\n",
      "\n",
      "Accuracy_score 0.8811881188118812 random_state 100\n",
      "Confusion_matrix \n",
      " [[79 13]\n",
      " [11 99]]\n",
      "classification_report \n",
      "               precision    recall  f1-score   support\n",
      "\n",
      "           0       0.88      0.86      0.87        92\n",
      "           1       0.88      0.90      0.89       110\n",
      "\n",
      "    accuracy                           0.88       202\n",
      "   macro avg       0.88      0.88      0.88       202\n",
      "weighted avg       0.88      0.88      0.88       202\n",
      "\n",
      "Accuracy_score 0.8514851485148515 random_state 160\n",
      "Confusion_matrix \n",
      " [[89 20]\n",
      " [10 83]]\n",
      "classification_report \n",
      "               precision    recall  f1-score   support\n",
      "\n",
      "           0       0.90      0.82      0.86       109\n",
      "           1       0.81      0.89      0.85        93\n",
      "\n",
      "    accuracy                           0.85       202\n",
      "   macro avg       0.85      0.85      0.85       202\n",
      "weighted avg       0.86      0.85      0.85       202\n",
      "\n",
      "Accuracy_score 0.8564356435643564 random_state 220\n",
      "Confusion_matrix \n",
      " [[ 73  18]\n",
      " [ 11 100]]\n",
      "classification_report \n",
      "               precision    recall  f1-score   support\n",
      "\n",
      "           0       0.87      0.80      0.83        91\n",
      "           1       0.85      0.90      0.87       111\n",
      "\n",
      "    accuracy                           0.86       202\n",
      "   macro avg       0.86      0.85      0.85       202\n",
      "weighted avg       0.86      0.86      0.86       202\n",
      "\n",
      "Accuracy_score 0.8217821782178217 random_state 280\n",
      "Confusion_matrix \n",
      " [[79 28]\n",
      " [ 8 87]]\n",
      "classification_report \n",
      "               precision    recall  f1-score   support\n",
      "\n",
      "           0       0.91      0.74      0.81       107\n",
      "           1       0.76      0.92      0.83        95\n",
      "\n",
      "    accuracy                           0.82       202\n",
      "   macro avg       0.83      0.83      0.82       202\n",
      "weighted avg       0.84      0.82      0.82       202\n",
      "\n"
     ]
    }
   ],
   "source": [
    "from sklearn.preprocessing import StandardScaler\n",
    "from sklearn.model_selection import train_test_split, GridSearchCV, RandomizedSearchCV, cross_val_score\n",
    "from sklearn.linear_model import LogisticRegression\n",
    "from sklearn.tree import DecisionTreeClassifier\n",
    "from sklearn.ensemble import RandomForestClassifier, AdaBoostClassifier\n",
    "from sklearn.svm import SVC\n",
    "from sklearn.neighbors import KNeighborsClassifier\n",
    "from sklearn.metrics import accuracy_score, classification_report, confusion_matrix\n",
    "for i in range(40,300,60):\n",
    "    X_train,X_test,y_train,y_test = train_test_split(resam_X,resam_y,test_size = 0.25,random_state =i)\n",
    "    RF = RandomForestClassifier()\n",
    "    RF.fit(X_train,y_train)\n",
    "    pred = RF.predict(X_test)\n",
    "    print(\"Accuracy_score\",accuracy_score(y_test,pred),\"random_state\",i)\n",
    "    print(\"Confusion_matrix\",\"\\n\",confusion_matrix(y_test,pred))\n",
    "    print(\"classification_report\",\"\\n\",classification_report(y_test,pred))"
   ]
  },
  {
   "cell_type": "code",
   "execution_count": 47,
   "id": "c0050adb",
   "metadata": {},
   "outputs": [
    {
     "name": "stdout",
     "output_type": "stream",
     "text": [
      "Accuracy_score 0.806930693069307 LogisticRegression()\n",
      "Confusion_matrix \n",
      " [[77 32]\n",
      " [ 7 86]]\n",
      "classification_report \n",
      "               precision    recall  f1-score   support\n",
      "\n",
      "           0       0.92      0.71      0.80       109\n",
      "           1       0.73      0.92      0.82        93\n",
      "\n",
      "    accuracy                           0.81       202\n",
      "   macro avg       0.82      0.82      0.81       202\n",
      "weighted avg       0.83      0.81      0.81       202\n",
      "\n",
      "Accuracy_score 0.8415841584158416 AdaBoostClassifier()\n",
      "Confusion_matrix \n",
      " [[88 21]\n",
      " [11 82]]\n",
      "classification_report \n",
      "               precision    recall  f1-score   support\n",
      "\n",
      "           0       0.89      0.81      0.85       109\n",
      "           1       0.80      0.88      0.84        93\n",
      "\n",
      "    accuracy                           0.84       202\n",
      "   macro avg       0.84      0.84      0.84       202\n",
      "weighted avg       0.85      0.84      0.84       202\n",
      "\n",
      "Accuracy_score 0.6336633663366337 KNeighborsClassifier()\n",
      "Confusion_matrix \n",
      " [[72 37]\n",
      " [37 56]]\n",
      "classification_report \n",
      "               precision    recall  f1-score   support\n",
      "\n",
      "           0       0.66      0.66      0.66       109\n",
      "           1       0.60      0.60      0.60        93\n",
      "\n",
      "    accuracy                           0.63       202\n",
      "   macro avg       0.63      0.63      0.63       202\n",
      "weighted avg       0.63      0.63      0.63       202\n",
      "\n",
      "Accuracy_score 0.47029702970297027 SVC()\n",
      "Confusion_matrix \n",
      " [[  5 104]\n",
      " [  3  90]]\n",
      "classification_report \n",
      "               precision    recall  f1-score   support\n",
      "\n",
      "           0       0.62      0.05      0.09       109\n",
      "           1       0.46      0.97      0.63        93\n",
      "\n",
      "    accuracy                           0.47       202\n",
      "   macro avg       0.54      0.51      0.36       202\n",
      "weighted avg       0.55      0.47      0.33       202\n",
      "\n"
     ]
    }
   ],
   "source": [
    "model = [LogisticRegression(),AdaBoostClassifier(),KNeighborsClassifier(), SVC()]\n",
    "\n",
    "for i in model:\n",
    "    X_train1,X_test1,y_train1,y_test1 = train_test_split(resam_X,resam_y,test_size = 0.25,random_state = 160)\n",
    "    i.fit(X_train1,y_train1)\n",
    "    pred = i.predict(X_test1)\n",
    "    print(\"Accuracy_score\",accuracy_score(y_test1,pred),i)\n",
    "    print(\"Confusion_matrix\",\"\\n\",confusion_matrix(y_test1,pred))\n",
    "    print(\"classification_report\",\"\\n\",classification_report(y_test1,pred))"
   ]
  },
  {
   "cell_type": "markdown",
   "id": "27950e19",
   "metadata": {},
   "source": [
    "have tried Modeling on both the dataset, imbalance dataset and without imbalance dataset. accuracy is better on balance dataset and good F1. we are selecting Randomforest as final algorithm for further process"
   ]
  },
  {
   "cell_type": "markdown",
   "id": "623c0b48",
   "metadata": {},
   "source": [
    "# GridSearchCV"
   ]
  },
  {
   "cell_type": "code",
   "execution_count": 48,
   "id": "f12f711d",
   "metadata": {},
   "outputs": [
    {
     "name": "stdout",
     "output_type": "stream",
     "text": [
      "Fitting 5 folds for each of 120 candidates, totalling 600 fits\n",
      "{'criterion': 'entropy', 'max_depth': 5, 'max_features': 'auto', 'n_estimators': 100}\n"
     ]
    }
   ],
   "source": [
    "Para = {\"n_estimators\" :[100,200,300,400],\n",
    "        \"max_depth\" :[1,2,3,4,5],\n",
    "        \"criterion\":[\"gini\", \"entropy\"],\n",
    "        \"max_features\" :[\"auto\", \"sqrt\", \"log2\"]}\n",
    "\n",
    "grid_search = GridSearchCV(RF,Para,cv = 5, scoring = \"f1\",n_jobs =-1, verbose =2)\n",
    "grid_search.fit(X_train1,y_train1)\n",
    "print(grid_search.best_params_)"
   ]
  },
  {
   "cell_type": "markdown",
   "id": "4893feeb",
   "metadata": {},
   "source": [
    "# Cross_val_score"
   ]
  },
  {
   "cell_type": "code",
   "execution_count": 49,
   "id": "5737c526",
   "metadata": {},
   "outputs": [
    {
     "name": "stdout",
     "output_type": "stream",
     "text": [
      "2 mean 0.8619653216418106 STD 0.06588755058198532\n",
      "3 mean 0.8624352837454079 STD 0.06302330558720828\n",
      "4 mean 0.8637608191909919 STD 0.06658847157101325\n",
      "5 mean 0.8590678070727347 STD 0.06720988212579733\n",
      "6 mean 0.8589272093979108 STD 0.06548679365580218\n",
      "7 mean 0.8583037034543537 STD 0.06234931646767281\n",
      "8 mean 0.8579386261954653 STD 0.0628922868241255\n",
      "9 mean 0.8620308147585298 STD 0.06382609598362261\n",
      "10 mean 0.859551246722687 STD 0.06533289035879224\n"
     ]
    }
   ],
   "source": [
    "best_RF = RandomForestClassifier(criterion =\"entropy\",max_depth = 5, max_features = \"auto\",n_estimators =100)\n",
    "\n",
    "for i in range(2,11):\n",
    "    cross_score = cross_val_score(best_RF,resam_X,resam_y,cv =10,scoring = \"f1\")\n",
    "    print(i,\"mean\",cross_score.mean(),\"STD\", cross_score.std())"
   ]
  },
  {
   "cell_type": "markdown",
   "id": "26ea9537",
   "metadata": {},
   "source": [
    "# Model Saving"
   ]
  },
  {
   "cell_type": "code",
   "execution_count": 50,
   "id": "4a520557",
   "metadata": {},
   "outputs": [],
   "source": [
    "best_RF = RandomForestClassifier(criterion =\"entropy\",max_depth = 5, max_features = \"log2\",n_estimators =300)\n",
    "best_RF.fit(resam_X,resam_y)\n",
    "\n",
    "import pickle\n",
    "filename = \"Loan_applicant_predict.pkl\"\n",
    "\n",
    "with open(filename,\"wb\")as f:\n",
    "    pickle.dump(best_RF,f)"
   ]
  },
  {
   "cell_type": "markdown",
   "id": "160fee08",
   "metadata": {},
   "source": [
    "# Conclusion"
   ]
  },
  {
   "cell_type": "markdown",
   "id": "55753ee9",
   "metadata": {},
   "source": [
    "Dataset consists mix of features, object and numreric, it covers all the possible information about the customer for taking a loan.I have done some analysis to understand the data more.\n",
    "it has observed that it is binery classification problem, when we checked the class label, i have found that it as imbalance, mean Y class was high than N class. Have checked that number of Male candidate applied for loan is higher than female. I have checked self_employed column with Applicant income and found that self_employed female is earning more than male but male has high loan amount with the help of coapplicant.\n",
    "\n",
    "Moving to numeric columns, have checked their distribution and outlier values, they were not is shape and observed lot of extreme values.i have corrected them, outlier were capped with IQR method.\n",
    "it was a imbalance dataset, have applied upsampling technique and made it balance datset. i have applied multiple model on the dataset and found that Randonforest worked well and gave good precision and F1 score for both the clases."
   ]
  },
  {
   "cell_type": "code",
   "execution_count": null,
   "id": "94272058",
   "metadata": {},
   "outputs": [],
   "source": []
  }
 ],
 "metadata": {
  "kernelspec": {
   "display_name": "Python 3 (ipykernel)",
   "language": "python",
   "name": "python3"
  },
  "language_info": {
   "codemirror_mode": {
    "name": "ipython",
    "version": 3
   },
   "file_extension": ".py",
   "mimetype": "text/x-python",
   "name": "python",
   "nbconvert_exporter": "python",
   "pygments_lexer": "ipython3",
   "version": "3.9.7"
  }
 },
 "nbformat": 4,
 "nbformat_minor": 5
}
